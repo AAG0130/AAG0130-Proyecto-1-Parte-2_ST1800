{
 "cells": [
  {
   "cell_type": "code",
   "execution_count": 1,
   "id": "ec78d291",
   "metadata": {},
   "outputs": [
    {
     "name": "stdout",
     "output_type": "stream",
     "text": [
      "Starting Spark application\n"
     ]
    },
    {
     "data": {
      "text/html": [
       "<table>\n",
       "<tr><th>ID</th><th>YARN Application ID</th><th>Kind</th><th>State</th><th>Spark UI</th><th>Driver log</th><th>User</th><th>Current session?</th></tr><tr><td>0</td><td>application_1748092706331_0001</td><td>pyspark</td><td>idle</td><td><a target=\"_blank\" href=\"http://ip-172-31-79-169.ec2.internal:20888/proxy/application_1748092706331_0001/\">Link</a></td><td><a target=\"_blank\" href=\"http://ip-172-31-65-134.ec2.internal:8042/node/containerlogs/container_1748092706331_0001_01_000001/livy\">Link</a></td><td>None</td><td>✔</td></tr></table>"
      ],
      "text/plain": [
       "<IPython.core.display.HTML object>"
      ]
     },
     "metadata": {},
     "output_type": "display_data"
    },
    {
     "data": {
      "application/vnd.jupyter.widget-view+json": {
       "model_id": "",
       "version_major": 2,
       "version_minor": 0
      },
      "text/plain": [
       "FloatProgress(value=0.0, bar_style='info', description='Progress:', layout=Layout(height='25px', width='50%'),…"
      ]
     },
     "metadata": {},
     "output_type": "display_data"
    },
    {
     "name": "stdout",
     "output_type": "stream",
     "text": [
      "SparkSession available as 'spark'.\n"
     ]
    },
    {
     "data": {
      "application/vnd.jupyter.widget-view+json": {
       "model_id": "",
       "version_major": 2,
       "version_minor": 0
      },
      "text/plain": [
       "FloatProgress(value=0.0, bar_style='info', description='Progress:', layout=Layout(height='25px', width='50%'),…"
      ]
     },
     "metadata": {},
     "output_type": "display_data"
    },
    {
     "name": "stdout",
     "output_type": "stream",
     "text": [
      "<pyspark.sql.session.SparkSession object at 0x7ff2715e9220>"
     ]
    }
   ],
   "source": [
    "spark"
   ]
  },
  {
   "cell_type": "code",
   "execution_count": 2,
   "id": "425b8585",
   "metadata": {},
   "outputs": [
    {
     "data": {
      "application/vnd.jupyter.widget-view+json": {
       "model_id": "",
       "version_major": 2,
       "version_minor": 0
      },
      "text/plain": [
       "FloatProgress(value=0.0, bar_style='info', description='Progress:', layout=Layout(height='25px', width='50%'),…"
      ]
     },
     "metadata": {},
     "output_type": "display_data"
    },
    {
     "name": "stdout",
     "output_type": "stream",
     "text": [
      "<SparkContext master=yarn appName=livy-session-0>"
     ]
    }
   ],
   "source": [
    "sc"
   ]
  },
  {
   "cell_type": "markdown",
   "id": "56ee8bf6",
   "metadata": {},
   "source": [
    "## Importar librerías"
   ]
  },
  {
   "cell_type": "code",
   "execution_count": 55,
   "id": "e110b372",
   "metadata": {},
   "outputs": [
    {
     "data": {
      "application/vnd.jupyter.widget-view+json": {
       "model_id": "",
       "version_major": 2,
       "version_minor": 0
      },
      "text/plain": [
       "FloatProgress(value=0.0, bar_style='info', description='Progress:', layout=Layout(height='25px', width='50%'),…"
      ]
     },
     "metadata": {},
     "output_type": "display_data"
    }
   ],
   "source": [
    "#import pandas as pd\n",
    "#import numpy as np\n",
    "#from sklearn.preprocessing import StandardScaler\n",
    "from pyspark.sql.functions import when, col, isnan, count, avg, broadcast\n",
    "from pyspark.sql.window import Window\n",
    "from pyspark.ml.feature import StandardScaler, VectorAssembler\n",
    "from pyspark.ml.feature import StringIndexer, OneHotEncoder\n",
    "from pyspark.ml.functions import vector_to_array\n",
    "from pyspark.sql.functions import expr"
   ]
  },
  {
   "cell_type": "markdown",
   "id": "8d1c6ed5",
   "metadata": {},
   "source": [
    "## Cargar dataset desde S3"
   ]
  },
  {
   "cell_type": "code",
   "execution_count": 56,
   "id": "409c52eb",
   "metadata": {},
   "outputs": [
    {
     "data": {
      "application/vnd.jupyter.widget-view+json": {
       "model_id": "",
       "version_major": 2,
       "version_minor": 0
      },
      "text/plain": [
       "FloatProgress(value=0.0, bar_style='info', description='Progress:', layout=Layout(height='25px', width='50%'),…"
      ]
     },
     "metadata": {},
     "output_type": "display_data"
    }
   ],
   "source": [
    "# Cargar dataset\n",
    "# desde S3\n",
    "data_raw=spark.read.csv('s3://aarangog2proyectointegrador/zona raw/who_life_exp.csv',inferSchema=True,header=True)"
   ]
  },
  {
   "cell_type": "code",
   "execution_count": 57,
   "id": "e9a9810d",
   "metadata": {},
   "outputs": [
    {
     "data": {
      "application/vnd.jupyter.widget-view+json": {
       "model_id": "",
       "version_major": 2,
       "version_minor": 0
      },
      "text/plain": [
       "FloatProgress(value=0.0, bar_style='info', description='Progress:', layout=Layout(height='25px', width='50%'),…"
      ]
     },
     "metadata": {},
     "output_type": "display_data"
    },
    {
     "name": "stdout",
     "output_type": "stream",
     "text": [
      "['country', 'country_code', 'region', 'year', 'life_expect', 'life_exp60', 'adult_mortality', 'infant_mort', 'age1-4mort', 'alcohol', 'bmi', 'age5-19thinness', 'age5-19obesity', 'hepatitis', 'measles', 'polio', 'diphtheria', 'basic_water', 'doctors', 'hospitals', 'gni_capita', 'gghe-d', 'che_gdp', 'une_pop', 'une_infant', 'une_life', 'une_hiv', 'une_gni', 'une_poverty', 'une_edu_spend', 'une_literacy', 'une_school']"
     ]
    }
   ],
   "source": [
    "data_raw.columns"
   ]
  },
  {
   "cell_type": "code",
   "execution_count": 58,
   "id": "d8a0aea2",
   "metadata": {},
   "outputs": [
    {
     "data": {
      "application/vnd.jupyter.widget-view+json": {
       "model_id": "",
       "version_major": 2,
       "version_minor": 0
      },
      "text/plain": [
       "FloatProgress(value=0.0, bar_style='info', description='Progress:', layout=Layout(height='25px', width='50%'),…"
      ]
     },
     "metadata": {},
     "output_type": "display_data"
    },
    {
     "name": "stdout",
     "output_type": "stream",
     "text": [
      "(3111, 32)"
     ]
    }
   ],
   "source": [
    "print((data_raw.count(),len(data_raw.columns)))"
   ]
  },
  {
   "cell_type": "markdown",
   "id": "ec961622",
   "metadata": {},
   "source": [
    "## Generación de data_filtered"
   ]
  },
  {
   "cell_type": "code",
   "execution_count": 59,
   "id": "115b231f",
   "metadata": {},
   "outputs": [
    {
     "data": {
      "application/vnd.jupyter.widget-view+json": {
       "model_id": "",
       "version_major": 2,
       "version_minor": 0
      },
      "text/plain": [
       "FloatProgress(value=0.0, bar_style='info', description='Progress:', layout=Layout(height='25px', width='50%'),…"
      ]
     },
     "metadata": {},
     "output_type": "display_data"
    }
   ],
   "source": [
    "# Reorganizar las columnas\n",
    "columnas = [\"region\", \"country\", \"country_code\", \"year\", \"une_pop\", \"gni_capita\", \"une_gni\", \"gghe-d\",\n",
    "            \"che_gdp\", \"une_edu_spend\", \"une_literacy\", \"une_school\", \"une_poverty\", \"basic_water\", \"doctors\",\n",
    "            \"hospitals\", \"bmi\", \"age5-19thinness\", \"age5-19obesity\", \"alcohol\", \"hepatitis\", \"measles\", \"polio\",\n",
    "            \"diphtheria\", \"une_hiv\", \"adult_mortality\", \"infant_mort\", \"une_infant\", \"age1-4mort\", \"life_expect\",\n",
    "            \"une_life\", \"life_exp60\"]\n",
    "\n",
    "data_filtered = data_raw.select(*columnas)"
   ]
  },
  {
   "cell_type": "code",
   "execution_count": 60,
   "id": "dee49dd4",
   "metadata": {},
   "outputs": [
    {
     "data": {
      "application/vnd.jupyter.widget-view+json": {
       "model_id": "",
       "version_major": 2,
       "version_minor": 0
      },
      "text/plain": [
       "FloatProgress(value=0.0, bar_style='info', description='Progress:', layout=Layout(height='25px', width='50%'),…"
      ]
     },
     "metadata": {},
     "output_type": "display_data"
    },
    {
     "name": "stdout",
     "output_type": "stream",
     "text": [
      "['region', 'country', 'country_code', 'year', 'une_pop', 'gni_capita', 'une_gni', 'gghe-d', 'che_gdp', 'une_edu_spend', 'une_literacy', 'une_school', 'une_poverty', 'basic_water', 'doctors', 'hospitals', 'bmi', 'age5-19thinness', 'age5-19obesity', 'alcohol', 'hepatitis', 'measles', 'polio', 'diphtheria', 'une_hiv', 'adult_mortality', 'infant_mort', 'une_infant', 'age1-4mort', 'life_expect', 'une_life', 'life_exp60']"
     ]
    }
   ],
   "source": [
    "data_filtered.columns"
   ]
  },
  {
   "cell_type": "code",
   "execution_count": 61,
   "id": "b791bbff",
   "metadata": {},
   "outputs": [
    {
     "data": {
      "application/vnd.jupyter.widget-view+json": {
       "model_id": "",
       "version_major": 2,
       "version_minor": 0
      },
      "text/plain": [
       "FloatProgress(value=0.0, bar_style='info', description='Progress:', layout=Layout(height='25px', width='50%'),…"
      ]
     },
     "metadata": {},
     "output_type": "display_data"
    },
    {
     "name": "stdout",
     "output_type": "stream",
     "text": [
      "+------+-------+------------+----+------------------+----------+-------+-----------------+-----------------+-----------------+------------+----------+-----------+-----------+-------+---------+----+---------------+--------------+-------+---------+-------+-----+----------+-------+---------------+---------------------+----------+----------+-----------------+--------+------------------+\n",
      "|region|country|country_code|year|une_pop           |gni_capita|une_gni|gghe-d           |che_gdp          |une_edu_spend    |une_literacy|une_school|une_poverty|basic_water|doctors|hospitals|bmi |age5-19thinness|age5-19obesity|alcohol|hepatitis|measles|polio|diphtheria|une_hiv|adult_mortality|infant_mort          |une_infant|age1-4mort|life_expect      |une_life|life_exp60        |\n",
      "+------+-------+------------+----+------------------+----------+-------+-----------------+-----------------+-----------------+------------+----------+-----------+-----------+-------+---------+----+---------------+--------------+-------+---------+-------+-----+----------+-------+---------------+---------------------+----------+----------+-----------------+--------+------------------+\n",
      "|Europe|Iceland|ISL         |2000|280.435           |28070.0   |28670.0|7.21218          |8.951130000000001|6.44717          |NULL        |NULL      |NULL       |100.00001  |34.522 |NULL     |25.5|1.0            |8.3           |6.14   |NULL     |91.0   |98.0 |98.0      |0.1    |76.06837       |0.00302              |3.2       |2.05E-4   |79.74425         |79.65366|22.850929999999998|\n",
      "|Europe|Iceland|ISL         |2005|294.97900000000004|33630.0   |35470.0|7.442480000000001|9.14714          |7.356089999999999|NULL        |NULL      |NULL       |100.00001  |36.339 |NULL     |25.8|0.9            |8.8           |7.05   |NULL     |90.0   |95.0 |95.0      |0.1    |61.3745        |0.002235             |2.5       |2.1E-4    |81.14513000000001|81.50244|23.64811          |\n",
      "|Europe|Finland|FIN         |2009|5342.262          |36450.0   |38320.0|6.911989999999999|8.87985          |6.485180000000001|NULL        |12.80424  |NULL       |100.00001  |30.861 |NULL     |26.0|0.9            |7.9           |9.96   |NULL     |98.0   |99.0 |99.0      |0.1    |90.45407       |0.0025800000000000003|2.6       |1.6E-4    |79.91969         |79.71951|23.47267          |\n",
      "|Europe|Finland|FIN         |2012|5414.77           |38570.0   |40830.0|7.29695          |9.30153          |7.192539999999999|NULL        |12.74987  |NULL       |100.00001  |32.854 |NULL     |26.0|0.9            |8.4           |9.27   |NULL     |97.0   |99.0 |99.0      |0.1    |80.42537       |0.002315             |2.2       |1.55E-4   |80.59189         |80.62683|23.77916          |\n",
      "+------+-------+------------+----+------------------+----------+-------+-----------------+-----------------+-----------------+------------+----------+-----------+-----------+-------+---------+----+---------------+--------------+-------+---------+-------+-----+----------+-------+---------------+---------------------+----------+----------+-----------------+--------+------------------+"
     ]
    }
   ],
   "source": [
    "# Limitar valores de \"basic_water\" a 100\n",
    "data_filtered.filter(col(\"basic_water\") > 100).show(truncate=False)"
   ]
  },
  {
   "cell_type": "code",
   "execution_count": 62,
   "id": "87637da5",
   "metadata": {},
   "outputs": [
    {
     "data": {
      "application/vnd.jupyter.widget-view+json": {
       "model_id": "",
       "version_major": 2,
       "version_minor": 0
      },
      "text/plain": [
       "FloatProgress(value=0.0, bar_style='info', description='Progress:', layout=Layout(height='25px', width='50%'),…"
      ]
     },
     "metadata": {},
     "output_type": "display_data"
    }
   ],
   "source": [
    "data_filtered = data_filtered.withColumn(\"basic_water\", when(col(\"basic_water\") > 100, 100).otherwise(col(\"basic_water\")))"
   ]
  },
  {
   "cell_type": "code",
   "execution_count": 63,
   "id": "f89ed291",
   "metadata": {},
   "outputs": [
    {
     "data": {
      "application/vnd.jupyter.widget-view+json": {
       "model_id": "",
       "version_major": 2,
       "version_minor": 0
      },
      "text/plain": [
       "FloatProgress(value=0.0, bar_style='info', description='Progress:', layout=Layout(height='25px', width='50%'),…"
      ]
     },
     "metadata": {},
     "output_type": "display_data"
    },
    {
     "name": "stdout",
     "output_type": "stream",
     "text": [
      "+------+-------+------------+----+-------+----------+-------+------+-------+-------------+------------+----------+-----------+-----------+-------+---------+---+---------------+--------------+-------+---------+-------+-----+----------+-------+---------------+-----------+----------+----------+-----------+--------+----------+\n",
      "|region|country|country_code|year|une_pop|gni_capita|une_gni|gghe-d|che_gdp|une_edu_spend|une_literacy|une_school|une_poverty|basic_water|doctors|hospitals|bmi|age5-19thinness|age5-19obesity|alcohol|hepatitis|measles|polio|diphtheria|une_hiv|adult_mortality|infant_mort|une_infant|age1-4mort|life_expect|une_life|life_exp60|\n",
      "+------+-------+------------+----+-------+----------+-------+------+-------+-------------+------------+----------+-----------+-----------+-------+---------+---+---------------+--------------+-------+---------+-------+-----+----------+-------+---------------+-----------+----------+----------+-----------+--------+----------+\n",
      "+------+-------+------------+----+-------+----------+-------+------+-------+-------------+------------+----------+-----------+-----------+-------+---------+---+---------------+--------------+-------+---------+-------+-----+----------+-------+---------------+-----------+----------+----------+-----------+--------+----------+"
     ]
    }
   ],
   "source": [
    "data_filtered.filter(col(\"basic_water\") > 100).show(truncate=False)"
   ]
  },
  {
   "cell_type": "code",
   "execution_count": 64,
   "id": "c475d5c4",
   "metadata": {},
   "outputs": [
    {
     "data": {
      "application/vnd.jupyter.widget-view+json": {
       "model_id": "",
       "version_major": 2,
       "version_minor": 0
      },
      "text/plain": [
       "FloatProgress(value=0.0, bar_style='info', description='Progress:', layout=Layout(height='25px', width='50%'),…"
      ]
     },
     "metadata": {},
     "output_type": "display_data"
    }
   ],
   "source": [
    "# Guardar en S3\n",
    "write_uri='s3://aarangog2proyectointegrador/zona trusted/data_filtered'\n",
    "\n",
    "data_filtered.write.format('parquet').save(write_uri)"
   ]
  },
  {
   "cell_type": "markdown",
   "id": "1aad5489",
   "metadata": {},
   "source": [
    "## Generación de data_selected"
   ]
  },
  {
   "cell_type": "code",
   "execution_count": 65,
   "id": "7bb01421",
   "metadata": {},
   "outputs": [
    {
     "data": {
      "application/vnd.jupyter.widget-view+json": {
       "model_id": "",
       "version_major": 2,
       "version_minor": 0
      },
      "text/plain": [
       "FloatProgress(value=0.0, bar_style='info', description='Progress:', layout=Layout(height='25px', width='50%'),…"
      ]
     },
     "metadata": {},
     "output_type": "display_data"
    }
   ],
   "source": [
    "# Eliminar columnas\n",
    "columnas_a_eliminar = [\"une_life\",\"une_infant\",\"gni_capita\",\"hospitals\",\"une_literacy\",\n",
    "                       \"une_school\",\"une_poverty\", \"life_exp60\",\"infant_mort\", \"adult_mortality\", \"age1-4mort\"]\n",
    "data_selected = data_filtered.drop(*columnas_a_eliminar)"
   ]
  },
  {
   "cell_type": "code",
   "execution_count": 66,
   "id": "c5fc6905",
   "metadata": {},
   "outputs": [
    {
     "data": {
      "application/vnd.jupyter.widget-view+json": {
       "model_id": "",
       "version_major": 2,
       "version_minor": 0
      },
      "text/plain": [
       "FloatProgress(value=0.0, bar_style='info', description='Progress:', layout=Layout(height='25px', width='50%'),…"
      ]
     },
     "metadata": {},
     "output_type": "display_data"
    },
    {
     "name": "stdout",
     "output_type": "stream",
     "text": [
      "['region', 'country', 'country_code', 'year', 'une_pop', 'une_gni', 'gghe-d', 'che_gdp', 'une_edu_spend', 'basic_water', 'doctors', 'bmi', 'age5-19thinness', 'age5-19obesity', 'alcohol', 'hepatitis', 'measles', 'polio', 'diphtheria', 'une_hiv', 'life_expect']"
     ]
    }
   ],
   "source": [
    "data_selected.columns"
   ]
  },
  {
   "cell_type": "code",
   "execution_count": null,
   "id": "136ea281",
   "metadata": {},
   "outputs": [
    {
     "data": {
      "application/vnd.jupyter.widget-view+json": {
       "model_id": "",
       "version_major": 2,
       "version_minor": 0
      },
      "text/plain": [
       "FloatProgress(value=0.0, bar_style='info', description='Progress:', layout=Layout(height='25px', width='50%'),…"
      ]
     },
     "metadata": {},
     "output_type": "display_data"
    }
   ],
   "source": [
    "# Filtrar países con exceso de datos faltantes\n",
    "countries_to_remove = [\"South Sudan\", \"Somalia\", \"Democratic People's Republic of Korea\", \"Sudan\"]\n",
    "data_selected = data_selected.filter(~col(\"country\").isin(countries_to_remove))"
   ]
  },
  {
   "cell_type": "code",
   "execution_count": 68,
   "id": "249a0345",
   "metadata": {},
   "outputs": [
    {
     "data": {
      "application/vnd.jupyter.widget-view+json": {
       "model_id": "",
       "version_major": 2,
       "version_minor": 0
      },
      "text/plain": [
       "FloatProgress(value=0.0, bar_style='info', description='Progress:', layout=Layout(height='25px', width='50%'),…"
      ]
     },
     "metadata": {},
     "output_type": "display_data"
    },
    {
     "name": "stdout",
     "output_type": "stream",
     "text": [
      "(3043, 21)"
     ]
    }
   ],
   "source": [
    "print((data_selected.count(),len(data_selected.columns)))"
   ]
  },
  {
   "cell_type": "code",
   "execution_count": 69,
   "id": "af8beb7c",
   "metadata": {},
   "outputs": [
    {
     "data": {
      "application/vnd.jupyter.widget-view+json": {
       "model_id": "",
       "version_major": 2,
       "version_minor": 0
      },
      "text/plain": [
       "FloatProgress(value=0.0, bar_style='info', description='Progress:', layout=Layout(height='25px', width='50%'),…"
      ]
     },
     "metadata": {},
     "output_type": "display_data"
    }
   ],
   "source": [
    "# Guardar en S3\n",
    "write_uri='s3://aarangog2proyectointegrador/zona trusted/data_selected'\n",
    "\n",
    "data_selected.write.format('parquet').save(write_uri)"
   ]
  },
  {
   "cell_type": "markdown",
   "id": "a2d25c50",
   "metadata": {},
   "source": [
    "## Generación de data_imputed"
   ]
  },
  {
   "cell_type": "code",
   "execution_count": 70,
   "id": "0f13828e",
   "metadata": {},
   "outputs": [
    {
     "data": {
      "application/vnd.jupyter.widget-view+json": {
       "model_id": "",
       "version_major": 2,
       "version_minor": 0
      },
      "text/plain": [
       "FloatProgress(value=0.0, bar_style='info', description='Progress:', layout=Layout(height='25px', width='50%'),…"
      ]
     },
     "metadata": {},
     "output_type": "display_data"
    },
    {
     "name": "stdout",
     "output_type": "stream",
     "text": [
      "+------+-------+------------+----+-------+-------+------+-------+-------------+-----------+-------+---+---------------+--------------+-------+---------+-------+-----+----------+-------+-----------+\n",
      "|region|country|country_code|year|une_pop|une_gni|gghe-d|che_gdp|une_edu_spend|basic_water|doctors|bmi|age5-19thinness|age5-19obesity|alcohol|hepatitis|measles|polio|diphtheria|une_hiv|life_expect|\n",
      "+------+-------+------------+----+-------+-------+------+-------+-------------+-----------+-------+---+---------------+--------------+-------+---------+-------+-----+----------+-------+-----------+\n",
      "|     0|      0|           0|   0|     37|     72|    49|     66|         1230|         21|   1276|  0|              0|             0|     22|      533|      8|    8|         8|    724|          0|\n",
      "+------+-------+------------+----+-------+-------+------+-------+-------------+-----------+-------+---+---------------+--------------+-------+---------+-------+-----+----------+-------+-----------+"
     ]
    }
   ],
   "source": [
    "data_selected.select([count(when(isnan(c) | col(c).isNull(), c)).alias(c) for c in data_selected.columns]).show()"
   ]
  },
  {
   "cell_type": "code",
   "execution_count": 71,
   "id": "102423bf",
   "metadata": {},
   "outputs": [
    {
     "data": {
      "application/vnd.jupyter.widget-view+json": {
       "model_id": "",
       "version_major": 2,
       "version_minor": 0
      },
      "text/plain": [
       "FloatProgress(value=0.0, bar_style='info', description='Progress:', layout=Layout(height='25px', width='50%'),…"
      ]
     },
     "metadata": {},
     "output_type": "display_data"
    }
   ],
   "source": [
    "# Interpolación aproximada por país para columnas con nulos (simulado por promedio por país)\n",
    "\n",
    "# Detectar columnas con nulos\n",
    "columns_with_nan = [c for c in data_selected.columns if data_selected.filter(col(c).isNull()).count() > 0]\n",
    "\n",
    "# Inicializar data_imputed con data_selected\n",
    "data_imputed_1 = data_selected\n",
    "\n",
    "# Imputar promedio por país\n",
    "for c in columns_with_nan:\n",
    "    window_spec = Window.partitionBy(\"country\")\n",
    "    data_imputed_1 = data_imputed_1.withColumn(\n",
    "        c,\n",
    "        when(col(c).isNull(), avg(c).over(window_spec)).otherwise(col(c))\n",
    "    )"
   ]
  },
  {
   "cell_type": "code",
   "execution_count": 72,
   "id": "16f1fa70",
   "metadata": {},
   "outputs": [
    {
     "data": {
      "application/vnd.jupyter.widget-view+json": {
       "model_id": "",
       "version_major": 2,
       "version_minor": 0
      },
      "text/plain": [
       "FloatProgress(value=0.0, bar_style='info', description='Progress:', layout=Layout(height='25px', width='50%'),…"
      ]
     },
     "metadata": {},
     "output_type": "display_data"
    },
    {
     "name": "stdout",
     "output_type": "stream",
     "text": [
      "+------+-------+------------+----+-------+-------+------+-------+-------------+-----------+-------+---+---------------+--------------+-------+---------+-------+-----+----------+-------+-----------+\n",
      "|region|country|country_code|year|une_pop|une_gni|gghe-d|che_gdp|une_edu_spend|basic_water|doctors|bmi|age5-19thinness|age5-19obesity|alcohol|hepatitis|measles|polio|diphtheria|une_hiv|life_expect|\n",
      "+------+-------+------------+----+-------+-------+------+-------+-------------+-----------+-------+---+---------------+--------------+-------+---------+-------+-----+----------+-------+-----------+\n",
      "|     0|      0|           0|   0|      0|     51|    17|     34|          204|          0|      0|  0|              0|             0|      0|      153|      0|    0|         0|    714|          0|\n",
      "+------+-------+------------+----+-------+-------+------+-------+-------------+-----------+-------+---+---------------+--------------+-------+---------+-------+-----+----------+-------+-----------+"
     ]
    }
   ],
   "source": [
    "data_imputed_1.select([count(when(isnan(c) | col(c).isNull(), c)).alias(c) for c in data_imputed_1.columns]).show()"
   ]
  },
  {
   "cell_type": "code",
   "execution_count": 73,
   "id": "26afa2ba",
   "metadata": {},
   "outputs": [
    {
     "data": {
      "application/vnd.jupyter.widget-view+json": {
       "model_id": "",
       "version_major": 2,
       "version_minor": 0
      },
      "text/plain": [
       "FloatProgress(value=0.0, bar_style='info', description='Progress:', layout=Layout(height='25px', width='50%'),…"
      ]
     },
     "metadata": {},
     "output_type": "display_data"
    }
   ],
   "source": [
    "# Lista de columnas que tienen valores nulos y queremos imputar con promedio por región\n",
    "cols_a_imputar = ['une_gni', 'gghe-d', 'che_gdp', 'une_edu_spend', 'hepatitis', 'une_hiv']\n",
    "\n",
    "# Renombramos columnas antes del join para evitar conflicto de nombres\n",
    "promedios_region = (\n",
    "    data_imputed_1\n",
    "    .groupBy(\"region\")\n",
    "    .agg(*[avg(c).alias(f\"{c}_avg\") for c in cols_a_imputar])\n",
    ")\n",
    "\n",
    "# Realiza el join de manera segura (usamos alias para evitar conflicto directo con columnas originales)\n",
    "data_imputed = (\n",
    "    data_imputed_1.alias(\"data\")\n",
    "    .join(broadcast(promedios_region).alias(\"prom\"), on=\"region\", how=\"left\")\n",
    ")\n",
    "\n",
    "# Imputamos valores nulos con promedio por región\n",
    "for c in cols_a_imputar:\n",
    "    data_imputed = data_imputed.withColumn(\n",
    "        c,\n",
    "        when(col(f\"data.{c}\").isNull(), col(f\"prom.{c}_avg\")).otherwise(col(f\"data.{c}\"))\n",
    "    )\n",
    "\n",
    "# Si ya no necesitas las columnas auxiliares, puedes seleccionar solo las columnas originales\n",
    "# (ya imputadas)\n",
    "columnas_finales = data_selected.columns\n",
    "data_imputed = data_imputed.select(*[col(c) for c in columnas_finales])"
   ]
  },
  {
   "cell_type": "code",
   "execution_count": 74,
   "id": "19152ad1",
   "metadata": {},
   "outputs": [
    {
     "data": {
      "application/vnd.jupyter.widget-view+json": {
       "model_id": "",
       "version_major": 2,
       "version_minor": 0
      },
      "text/plain": [
       "FloatProgress(value=0.0, bar_style='info', description='Progress:', layout=Layout(height='25px', width='50%'),…"
      ]
     },
     "metadata": {},
     "output_type": "display_data"
    },
    {
     "name": "stdout",
     "output_type": "stream",
     "text": [
      "+------+-------+------------+----+-------+-------+------+-------+-------------+-----------+-------+---+---------------+--------------+-------+---------+-------+-----+----------+-------+-----------+\n",
      "|region|country|country_code|year|une_pop|une_gni|gghe-d|che_gdp|une_edu_spend|basic_water|doctors|bmi|age5-19thinness|age5-19obesity|alcohol|hepatitis|measles|polio|diphtheria|une_hiv|life_expect|\n",
      "+------+-------+------------+----+-------+-------+------+-------+-------------+-----------+-------+---+---------------+--------------+-------+---------+-------+-----+----------+-------+-----------+\n",
      "|     0|      0|           0|   0|      0|      0|     0|      0|            0|          0|      0|  0|              0|             0|      0|        0|      0|    0|         0|      0|          0|\n",
      "+------+-------+------------+----+-------+-------+------+-------+-------------+-----------+-------+---+---------------+--------------+-------+---------+-------+-----+----------+-------+-----------+"
     ]
    }
   ],
   "source": [
    "data_imputed.select([count(when(isnan(c) | col(c).isNull(), c)).alias(c) for c in data_imputed.columns]).show()"
   ]
  },
  {
   "cell_type": "code",
   "execution_count": 75,
   "id": "436b24e2",
   "metadata": {},
   "outputs": [
    {
     "data": {
      "application/vnd.jupyter.widget-view+json": {
       "model_id": "",
       "version_major": 2,
       "version_minor": 0
      },
      "text/plain": [
       "FloatProgress(value=0.0, bar_style='info', description='Progress:', layout=Layout(height='25px', width='50%'),…"
      ]
     },
     "metadata": {},
     "output_type": "display_data"
    }
   ],
   "source": [
    "# Guardar en S3\n",
    "write_uri='s3://aarangog2proyectointegrador/zona trusted/data_imputed'\n",
    "\n",
    "data_imputed.write.format('parquet').save(write_uri)"
   ]
  },
  {
   "cell_type": "markdown",
   "id": "2a115610",
   "metadata": {},
   "source": [
    "## Generación de data_numeric"
   ]
  },
  {
   "cell_type": "code",
   "execution_count": 76,
   "id": "485c6e83",
   "metadata": {},
   "outputs": [
    {
     "data": {
      "application/vnd.jupyter.widget-view+json": {
       "model_id": "",
       "version_major": 2,
       "version_minor": 0
      },
      "text/plain": [
       "FloatProgress(value=0.0, bar_style='info', description='Progress:', layout=Layout(height='25px', width='50%'),…"
      ]
     },
     "metadata": {},
     "output_type": "display_data"
    },
    {
     "name": "stdout",
     "output_type": "stream",
     "text": [
      "['year', 'une_pop', 'une_gni', 'gghe-d', 'che_gdp', 'une_edu_spend', 'basic_water', 'doctors', 'bmi', 'age5-19thinness', 'age5-19obesity', 'alcohol', 'hepatitis', 'measles', 'polio', 'diphtheria', 'une_hiv', 'life_expect']"
     ]
    }
   ],
   "source": [
    "data_numeric = data_imputed.drop(\"country\", \"country_code\", \"region\")\n",
    "data_numeric.columns"
   ]
  },
  {
   "cell_type": "code",
   "execution_count": 77,
   "id": "862b05f5",
   "metadata": {},
   "outputs": [
    {
     "data": {
      "application/vnd.jupyter.widget-view+json": {
       "model_id": "",
       "version_major": 2,
       "version_minor": 0
      },
      "text/plain": [
       "FloatProgress(value=0.0, bar_style='info', description='Progress:', layout=Layout(height='25px', width='50%'),…"
      ]
     },
     "metadata": {},
     "output_type": "display_data"
    }
   ],
   "source": [
    "# Guardar en S3\n",
    "write_uri='s3://aarangog2proyectointegrador/zona trusted/data_numeric'\n",
    "\n",
    "data_numeric.write.format('parquet').save(write_uri)"
   ]
  },
  {
   "cell_type": "markdown",
   "id": "44bf9987",
   "metadata": {},
   "source": [
    "## Generación de data_standard"
   ]
  },
  {
   "cell_type": "code",
   "execution_count": 78,
   "id": "36151219",
   "metadata": {},
   "outputs": [
    {
     "data": {
      "application/vnd.jupyter.widget-view+json": {
       "model_id": "",
       "version_major": 2,
       "version_minor": 0
      },
      "text/plain": [
       "FloatProgress(value=0.0, bar_style='info', description='Progress:', layout=Layout(height='25px', width='50%'),…"
      ]
     },
     "metadata": {},
     "output_type": "display_data"
    },
    {
     "name": "stdout",
     "output_type": "stream",
     "text": [
      "+-------------------+--------------------+-------------------+-------------------+------------------+-------------------+-------------------+-------------------+-------------------+------------------+-------------------+-------------------+-------------------+-------------------+-------------------+-------------------+--------------------+\n",
      "|               year|             une_pop|            une_gni|             gghe-d|           che_gdp|      une_edu_spend|        basic_water|            doctors|                bmi|   age5-19thinness|     age5-19obesity|            alcohol|          hepatitis|            measles|              polio|         diphtheria|             une_hiv|\n",
      "+-------------------+--------------------+-------------------+-------------------+------------------+-------------------+-------------------+-------------------+-------------------+------------------+-------------------+-------------------+-------------------+-------------------+-------------------+-------------------+--------------------+\n",
      "| -1.632724820195343|-0.11919517443346139|-0.7679028598922031| -1.268234346462089|1.3666419932873197|-0.5787451577912811| -2.989086018063791|-0.9452868388909977|-1.5374926121704549|3.2719750485572967|-1.1880939875307583|-1.2194172073875629|-1.1515812283029268|-3.9504854864871355|  -4.32345025735203| -4.219408134271501|-0.39085345915311936|\n",
      "| -1.428634217670931|-0.11322937378887421|-0.7679028598922031| -1.268234346462089|1.3666419932873197|-0.5787451577912811| -2.987734523512241|-0.9766694454727423|  -1.49193361575556|3.2292021117407095|-1.1660834064618408|-1.2194172073875629|-1.1515812283029268| -3.278931671321768| -3.567203061524424|-3.6146938501377557|-0.39085345915311936|\n",
      "|-1.2245436151465188|-0.10606074695182477|-0.7679028598922031|-1.4615240869107367|  1.32600960246707|-0.5787451577912811|-2.8756340192067977|-0.9452868388909977|-1.4463746193406668|3.1864291749241227|-1.1440728253929235|-1.2194172073875629|-1.1515812283029268|-3.4132424343548413| -3.498453316449187| -3.413122422093174|-0.39085345915311936|\n",
      "|-1.0204530126221067| -0.0982694597124464|-0.7679028598922031| -1.189879184949675|1.1251807132174703|-0.5787451577912811|-2.7634903480801096|-0.9452868388909977| -1.400815622925772| 3.143656238107536| -1.122062244324006|-1.2194172073875629|-1.1515812283029268|-3.1446209082886947|-3.1547045910730023| -3.077170042018871|-0.39085345915311936|\n",
      "|-0.8163624100976947|-0.09072550828412998|-0.7679028598922031| -1.241655533372085|1.4720247995021887|-0.5787451577912811| -2.650448700486797|-0.9452868388909977|-1.3552566265108772|3.1008833012909496|-1.1000516632550887|-1.2194172073875629|-1.1515812283029268| -2.540222474639864|  -2.53595688539587| -2.472455757885126|-0.39085345915311936|\n",
      "+-------------------+--------------------+-------------------+-------------------+------------------+-------------------+-------------------+-------------------+-------------------+------------------+-------------------+-------------------+-------------------+-------------------+-------------------+-------------------+--------------------+\n",
      "only showing top 5 rows"
     ]
    }
   ],
   "source": [
    "# Vectorizar las columnas numéricas\n",
    "data_numeric = data_numeric.drop(\"life_expect\")\n",
    "input_cols = data_numeric.columns\n",
    "assembler = VectorAssembler(inputCols=input_cols, outputCol=\"features_vec\")\n",
    "data_vec = assembler.transform(data_numeric)\n",
    "\n",
    "# Aplicar escalado\n",
    "scaler = StandardScaler(inputCol=\"features_vec\", outputCol=\"scaled_features\", withMean=True, withStd=True)\n",
    "scaler_model = scaler.fit(data_vec)\n",
    "data_scaled = scaler_model.transform(data_vec)\n",
    "\n",
    "# Convertir el vector escalado en columnas individuales\n",
    "data_array = data_scaled.withColumn(\"scaled_array\", vector_to_array(\"scaled_features\"))\n",
    "\n",
    "# Extraer cada valor del array y renombrar como columna original\n",
    "for i, c in enumerate(input_cols):\n",
    "    data_array = data_array.withColumn(c, expr(f\"scaled_array[{i}]\"))\n",
    "\n",
    "# Seleccionar solo las columnas originales, ahora estandarizadas\n",
    "data_standard = data_array.select(input_cols)\n",
    "\n",
    "data_standard.show(5)"
   ]
  },
  {
   "cell_type": "code",
   "execution_count": 79,
   "id": "49cc79e1",
   "metadata": {},
   "outputs": [
    {
     "data": {
      "application/vnd.jupyter.widget-view+json": {
       "model_id": "",
       "version_major": 2,
       "version_minor": 0
      },
      "text/plain": [
       "FloatProgress(value=0.0, bar_style='info', description='Progress:', layout=Layout(height='25px', width='50%'),…"
      ]
     },
     "metadata": {},
     "output_type": "display_data"
    },
    {
     "name": "stdout",
     "output_type": "stream",
     "text": [
      "+------------------+--------------------+-------------------+------------------+------------------+-------------------+------------------+-------------------+-------------------+------------------+-------------------+-------------------+-------------------+-------------------+-----------------+------------------+--------------------+------+-------+------------+-----------+\n",
      "|              year|             une_pop|            une_gni|            gghe-d|           che_gdp|      une_edu_spend|       basic_water|            doctors|                bmi|   age5-19thinness|     age5-19obesity|            alcohol|          hepatitis|            measles|            polio|        diphtheria|             une_hiv|region|country|country_code|life_expect|\n",
      "+------------------+--------------------+-------------------+------------------+------------------+-------------------+------------------+-------------------+-------------------+------------------+-------------------+-------------------+-------------------+-------------------+-----------------+------------------+--------------------+------+-------+------------+-----------+\n",
      "|-1.632724820195343|-0.11919517443346139|-0.7679028598922031|-1.268234346462089|1.3666419932873197|-0.5787451577912811|-2.989086018063791|-0.9452868388909977|-1.5374926121704549|3.2719750485572967|-1.1880939875307583|-1.2194172073875629|-1.1515812283029268|-3.9504854864871355|-4.32345025735203|-4.219408134271501|-0.39085345915311936|Africa| Angola|         AGO|    47.3373|\n",
      "|-1.632724820195343|-0.11919517443346139|-0.7679028598922031|-1.268234346462089|1.3666419932873197|-0.5787451577912811|-2.989086018063791|-0.9452868388909977|-1.5374926121704549|3.2719750485572967|-1.1880939875307583|-1.2194172073875629|-1.1515812283029268|-3.9504854864871355|-4.32345025735203|-4.219408134271501|-0.39085345915311936|Africa| Angola|         AGO|   48.19789|\n",
      "|-1.632724820195343|-0.11919517443346139|-0.7679028598922031|-1.268234346462089|1.3666419932873197|-0.5787451577912811|-2.989086018063791|-0.9452868388909977|-1.5374926121704549|3.2719750485572967|-1.1880939875307583|-1.2194172073875629|-1.1515812283029268|-3.9504854864871355|-4.32345025735203|-4.219408134271501|-0.39085345915311936|Africa| Angola|         AGO|   49.42569|\n",
      "|-1.632724820195343|-0.11919517443346139|-0.7679028598922031|-1.268234346462089|1.3666419932873197|-0.5787451577912811|-2.989086018063791|-0.9452868388909977|-1.5374926121704549|3.2719750485572967|-1.1880939875307583|-1.2194172073875629|-1.1515812283029268|-3.9504854864871355|-4.32345025735203|-4.219408134271501|-0.39085345915311936|Africa| Angola|         AGO|   50.50266|\n",
      "|-1.632724820195343|-0.11919517443346139|-0.7679028598922031|-1.268234346462089|1.3666419932873197|-0.5787451577912811|-2.989086018063791|-0.9452868388909977|-1.5374926121704549|3.2719750485572967|-1.1880939875307583|-1.2194172073875629|-1.1515812283029268|-3.9504854864871355|-4.32345025735203|-4.219408134271501|-0.39085345915311936|Africa| Angola|         AGO|   51.52863|\n",
      "+------------------+--------------------+-------------------+------------------+------------------+-------------------+------------------+-------------------+-------------------+------------------+-------------------+-------------------+-------------------+-------------------+-----------------+------------------+--------------------+------+-------+------------+-----------+\n",
      "only showing top 5 rows"
     ]
    }
   ],
   "source": [
    "# Reagregar columnas categóricas\n",
    "data_categoricas = data_imputed.select(\"region\", \"country\", \"country_code\", \"life_expect\")\n",
    "data_standard = data_standard.join(data_categoricas)\n",
    "\n",
    "data_standard.show(5)"
   ]
  },
  {
   "cell_type": "code",
   "execution_count": 80,
   "id": "a188c6da",
   "metadata": {},
   "outputs": [
    {
     "data": {
      "application/vnd.jupyter.widget-view+json": {
       "model_id": "",
       "version_major": 2,
       "version_minor": 0
      },
      "text/plain": [
       "FloatProgress(value=0.0, bar_style='info', description='Progress:', layout=Layout(height='25px', width='50%'),…"
      ]
     },
     "metadata": {},
     "output_type": "display_data"
    }
   ],
   "source": [
    "scaler.write().overwrite().save(\"s3://aarangog2proyectointegrador/zona refined/scaler\")"
   ]
  },
  {
   "cell_type": "code",
   "execution_count": 81,
   "id": "abecbe46",
   "metadata": {},
   "outputs": [
    {
     "data": {
      "application/vnd.jupyter.widget-view+json": {
       "model_id": "",
       "version_major": 2,
       "version_minor": 0
      },
      "text/plain": [
       "FloatProgress(value=0.0, bar_style='info', description='Progress:', layout=Layout(height='25px', width='50%'),…"
      ]
     },
     "metadata": {},
     "output_type": "display_data"
    }
   ],
   "source": [
    "# Guardar en S3\n",
    "write_uri='s3://aarangog2proyectointegrador/zona trusted/data_standard'\n",
    "\n",
    "data_standard.write.format('parquet').save(write_uri)"
   ]
  },
  {
   "cell_type": "markdown",
   "id": "b7e21c46",
   "metadata": {},
   "source": [
    "## Generación de data_prepared"
   ]
  },
  {
   "cell_type": "code",
   "execution_count": 82,
   "id": "39f628ca",
   "metadata": {},
   "outputs": [
    {
     "data": {
      "application/vnd.jupyter.widget-view+json": {
       "model_id": "",
       "version_major": 2,
       "version_minor": 0
      },
      "text/plain": [
       "FloatProgress(value=0.0, bar_style='info', description='Progress:', layout=Layout(height='25px', width='50%'),…"
      ]
     },
     "metadata": {},
     "output_type": "display_data"
    },
    {
     "name": "stdout",
     "output_type": "stream",
     "text": [
      "+------------------+--------------------+-------------------+------------------+------------------+-------------------+------------------+-------------------+-------------------+------------------+-------------------+-------------------+-------------------+-------------------+-----------------+------------------+--------------------+-----------+------+------+--------+---------------+---------------------+---------------+\n",
      "|              year|             une_pop|            une_gni|            gghe-d|           che_gdp|      une_edu_spend|       basic_water|            doctors|                bmi|   age5-19thinness|     age5-19obesity|            alcohol|          hepatitis|            measles|            polio|        diphtheria|             une_hiv|life_expect|Europe|Africa|Americas|Western Pacific|Eastern Mediterranean|South-East Asia|\n",
      "+------------------+--------------------+-------------------+------------------+------------------+-------------------+------------------+-------------------+-------------------+------------------+-------------------+-------------------+-------------------+-------------------+-----------------+------------------+--------------------+-----------+------+------+--------+---------------+---------------------+---------------+\n",
      "|-1.632724820195343|-0.11919517443346139|-0.7679028598922031|-1.268234346462089|1.3666419932873197|-0.5787451577912811|-2.989086018063791|-0.9452868388909977|-1.5374926121704549|3.2719750485572967|-1.1880939875307583|-1.2194172073875629|-1.1515812283029268|-3.9504854864871355|-4.32345025735203|-4.219408134271501|-0.39085345915311936|    47.3373|   0.0|   1.0|     0.0|            0.0|                  0.0|            0.0|\n",
      "|-1.632724820195343|-0.11919517443346139|-0.7679028598922031|-1.268234346462089|1.3666419932873197|-0.5787451577912811|-2.989086018063791|-0.9452868388909977|-1.5374926121704549|3.2719750485572967|-1.1880939875307583|-1.2194172073875629|-1.1515812283029268|-3.9504854864871355|-4.32345025735203|-4.219408134271501|-0.39085345915311936|   48.19789|   0.0|   1.0|     0.0|            0.0|                  0.0|            0.0|\n",
      "|-1.632724820195343|-0.11919517443346139|-0.7679028598922031|-1.268234346462089|1.3666419932873197|-0.5787451577912811|-2.989086018063791|-0.9452868388909977|-1.5374926121704549|3.2719750485572967|-1.1880939875307583|-1.2194172073875629|-1.1515812283029268|-3.9504854864871355|-4.32345025735203|-4.219408134271501|-0.39085345915311936|   49.42569|   0.0|   1.0|     0.0|            0.0|                  0.0|            0.0|\n",
      "|-1.632724820195343|-0.11919517443346139|-0.7679028598922031|-1.268234346462089|1.3666419932873197|-0.5787451577912811|-2.989086018063791|-0.9452868388909977|-1.5374926121704549|3.2719750485572967|-1.1880939875307583|-1.2194172073875629|-1.1515812283029268|-3.9504854864871355|-4.32345025735203|-4.219408134271501|-0.39085345915311936|   50.50266|   0.0|   1.0|     0.0|            0.0|                  0.0|            0.0|\n",
      "|-1.632724820195343|-0.11919517443346139|-0.7679028598922031|-1.268234346462089|1.3666419932873197|-0.5787451577912811|-2.989086018063791|-0.9452868388909977|-1.5374926121704549|3.2719750485572967|-1.1880939875307583|-1.2194172073875629|-1.1515812283029268|-3.9504854864871355|-4.32345025735203|-4.219408134271501|-0.39085345915311936|   51.52863|   0.0|   1.0|     0.0|            0.0|                  0.0|            0.0|\n",
      "+------------------+--------------------+-------------------+------------------+------------------+-------------------+------------------+-------------------+-------------------+------------------+-------------------+-------------------+-------------------+-------------------+-----------------+------------------+--------------------+-----------+------+------+--------+---------------+---------------------+---------------+\n",
      "only showing top 5 rows"
     ]
    }
   ],
   "source": [
    "# Indexar 'region' y obtener etiquetas\n",
    "indexer = StringIndexer(inputCol=\"region\", outputCol=\"region_index\")\n",
    "indexer_model = indexer.fit(data_standard)\n",
    "region_labels = indexer_model.labels  # Lista de nombres reales de las regiones\n",
    "data_indexed = indexer_model.transform(data_standard)\n",
    "\n",
    "# One-hot encoding con dropLast=False\n",
    "encoder = OneHotEncoder(inputCols=[\"region_index\"], outputCols=[\"region_ohe\"], dropLast=False)\n",
    "encoder_model = encoder.fit(data_indexed)\n",
    "data_encoded = encoder_model.transform(data_indexed)\n",
    "\n",
    "# Convertir vector a array\n",
    "data_with_array = data_encoded.withColumn(\"region_ohe_array\", vector_to_array(\"region_ohe\"))\n",
    "\n",
    "# Crear columnas individuales con nombres reales de las regiones\n",
    "for i, label in enumerate(region_labels):\n",
    "    data_with_array = data_with_array.withColumn(f\"{label}\", col(\"region_ohe_array\")[i])\n",
    "\n",
    "# Eliminar columnas no necesarias\n",
    "data_prepared = data_with_array.drop(\"region\", \"country\", \"country_code\", \"region_index\", \"region_ohe\", \"region_ohe_array\")\n",
    "\n",
    "# Mostrar resultados\n",
    "data_prepared.show(5)"
   ]
  },
  {
   "cell_type": "code",
   "execution_count": 83,
   "id": "0d5943e7",
   "metadata": {},
   "outputs": [
    {
     "data": {
      "application/vnd.jupyter.widget-view+json": {
       "model_id": "",
       "version_major": 2,
       "version_minor": 0
      },
      "text/plain": [
       "FloatProgress(value=0.0, bar_style='info', description='Progress:', layout=Layout(height='25px', width='50%'),…"
      ]
     },
     "metadata": {},
     "output_type": "display_data"
    }
   ],
   "source": [
    "# Guardar en S3\n",
    "write_uri='s3://aarangog2proyectointegrador/zona trusted/data_prepared'\n",
    "\n",
    "data_prepared.write.format('parquet').save(write_uri)"
   ]
  },
  {
   "cell_type": "markdown",
   "id": "54d53495",
   "metadata": {},
   "source": [
    "## Generación de data_prepared_selected"
   ]
  },
  {
   "cell_type": "code",
   "execution_count": 84,
   "id": "fbe5bf36",
   "metadata": {},
   "outputs": [
    {
     "data": {
      "application/vnd.jupyter.widget-view+json": {
       "model_id": "",
       "version_major": 2,
       "version_minor": 0
      },
      "text/plain": [
       "FloatProgress(value=0.0, bar_style='info', description='Progress:', layout=Layout(height='25px', width='50%'),…"
      ]
     },
     "metadata": {},
     "output_type": "display_data"
    },
    {
     "name": "stdout",
     "output_type": "stream",
     "text": [
      "+------------------+--------------------+-------------------+------------------+------------------+-------------------+------------------+-------------------+-------------------+------------------+-------------------+-------------------+-------------------+-------------------+-----------------+------------------+--------------------+-----------+------+\n",
      "|              year|             une_pop|            une_gni|            gghe-d|           che_gdp|      une_edu_spend|       basic_water|            doctors|                bmi|   age5-19thinness|     age5-19obesity|            alcohol|          hepatitis|            measles|            polio|        diphtheria|             une_hiv|life_expect|Africa|\n",
      "+------------------+--------------------+-------------------+------------------+------------------+-------------------+------------------+-------------------+-------------------+------------------+-------------------+-------------------+-------------------+-------------------+-----------------+------------------+--------------------+-----------+------+\n",
      "|-1.632724820195343|-0.11919517443346139|-0.7679028598922031|-1.268234346462089|1.3666419932873197|-0.5787451577912811|-2.989086018063791|-0.9452868388909977|-1.5374926121704549|3.2719750485572967|-1.1880939875307583|-1.2194172073875629|-1.1515812283029268|-3.9504854864871355|-4.32345025735203|-4.219408134271501|-0.39085345915311936|    47.3373|   1.0|\n",
      "|-1.632724820195343|-0.11919517443346139|-0.7679028598922031|-1.268234346462089|1.3666419932873197|-0.5787451577912811|-2.989086018063791|-0.9452868388909977|-1.5374926121704549|3.2719750485572967|-1.1880939875307583|-1.2194172073875629|-1.1515812283029268|-3.9504854864871355|-4.32345025735203|-4.219408134271501|-0.39085345915311936|   48.19789|   1.0|\n",
      "|-1.632724820195343|-0.11919517443346139|-0.7679028598922031|-1.268234346462089|1.3666419932873197|-0.5787451577912811|-2.989086018063791|-0.9452868388909977|-1.5374926121704549|3.2719750485572967|-1.1880939875307583|-1.2194172073875629|-1.1515812283029268|-3.9504854864871355|-4.32345025735203|-4.219408134271501|-0.39085345915311936|   49.42569|   1.0|\n",
      "|-1.632724820195343|-0.11919517443346139|-0.7679028598922031|-1.268234346462089|1.3666419932873197|-0.5787451577912811|-2.989086018063791|-0.9452868388909977|-1.5374926121704549|3.2719750485572967|-1.1880939875307583|-1.2194172073875629|-1.1515812283029268|-3.9504854864871355|-4.32345025735203|-4.219408134271501|-0.39085345915311936|   50.50266|   1.0|\n",
      "|-1.632724820195343|-0.11919517443346139|-0.7679028598922031|-1.268234346462089|1.3666419932873197|-0.5787451577912811|-2.989086018063791|-0.9452868388909977|-1.5374926121704549|3.2719750485572967|-1.1880939875307583|-1.2194172073875629|-1.1515812283029268|-3.9504854864871355|-4.32345025735203|-4.219408134271501|-0.39085345915311936|   51.52863|   1.0|\n",
      "+------------------+--------------------+-------------------+------------------+------------------+-------------------+------------------+-------------------+-------------------+------------------+-------------------+-------------------+-------------------+-------------------+-----------------+------------------+--------------------+-----------+------+\n",
      "only showing top 5 rows"
     ]
    }
   ],
   "source": [
    "columns_to_drop = [\"Eastern Mediterranean\", \"South-East Asia\", \"Americas\", \"Europe\", \"Western Pacific\"]\n",
    "data_prepared_selected = data_prepared.drop(*columns_to_drop)\n",
    "\n",
    "data_prepared_selected.show(5)"
   ]
  },
  {
   "cell_type": "code",
   "execution_count": 85,
   "id": "64b50476",
   "metadata": {},
   "outputs": [
    {
     "data": {
      "application/vnd.jupyter.widget-view+json": {
       "model_id": "",
       "version_major": 2,
       "version_minor": 0
      },
      "text/plain": [
       "FloatProgress(value=0.0, bar_style='info', description='Progress:', layout=Layout(height='25px', width='50%'),…"
      ]
     },
     "metadata": {},
     "output_type": "display_data"
    }
   ],
   "source": [
    "# Guardar en S3\n",
    "write_uri='s3://aarangog2proyectointegrador/zona trusted/data_prepared_selected'\n",
    "\n",
    "data_prepared_selected.write.format('parquet').save(write_uri)"
   ]
  }
 ],
 "metadata": {
  "kernelspec": {
   "display_name": "PySpark",
   "language": "python",
   "name": "pysparkkernel"
  },
  "language_info": {
   "codemirror_mode": {
    "name": "python",
    "version": 3
   },
   "file_extension": ".py",
   "mimetype": "text/x-python",
   "name": "pyspark",
   "pygments_lexer": "python3"
  }
 },
 "nbformat": 4,
 "nbformat_minor": 5
}
