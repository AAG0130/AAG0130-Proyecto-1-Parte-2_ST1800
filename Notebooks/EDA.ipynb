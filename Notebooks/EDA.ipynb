{
 "cells": [
  {
   "cell_type": "code",
   "execution_count": 1,
   "id": "741b4885",
   "metadata": {},
   "outputs": [
    {
     "name": "stdout",
     "output_type": "stream",
     "text": [
      "Starting Spark application\n"
     ]
    },
    {
     "data": {
      "text/html": [
       "<table>\n",
       "<tr><th>ID</th><th>YARN Application ID</th><th>Kind</th><th>State</th><th>Spark UI</th><th>Driver log</th><th>User</th><th>Current session?</th></tr><tr><td>0</td><td>application_1748121536922_0001</td><td>pyspark</td><td>idle</td><td><a target=\"_blank\" href=\"http://ip-172-31-79-174.ec2.internal:20888/proxy/application_1748121536922_0001/\">Link</a></td><td><a target=\"_blank\" href=\"http://ip-172-31-73-7.ec2.internal:8042/node/containerlogs/container_1748121536922_0001_01_000001/livy\">Link</a></td><td>None</td><td>✔</td></tr></table>"
      ],
      "text/plain": [
       "<IPython.core.display.HTML object>"
      ]
     },
     "metadata": {},
     "output_type": "display_data"
    },
    {
     "data": {
      "application/vnd.jupyter.widget-view+json": {
       "model_id": "",
       "version_major": 2,
       "version_minor": 0
      },
      "text/plain": [
       "FloatProgress(value=0.0, bar_style='info', description='Progress:', layout=Layout(height='25px', width='50%'),…"
      ]
     },
     "metadata": {},
     "output_type": "display_data"
    },
    {
     "name": "stdout",
     "output_type": "stream",
     "text": [
      "SparkSession available as 'spark'.\n"
     ]
    },
    {
     "data": {
      "application/vnd.jupyter.widget-view+json": {
       "model_id": "",
       "version_major": 2,
       "version_minor": 0
      },
      "text/plain": [
       "FloatProgress(value=0.0, bar_style='info', description='Progress:', layout=Layout(height='25px', width='50%'),…"
      ]
     },
     "metadata": {},
     "output_type": "display_data"
    },
    {
     "name": "stdout",
     "output_type": "stream",
     "text": [
      "<pyspark.sql.session.SparkSession object at 0x7f0864928220>"
     ]
    }
   ],
   "source": [
    "spark"
   ]
  },
  {
   "cell_type": "code",
   "execution_count": 2,
   "id": "80d08f27",
   "metadata": {},
   "outputs": [
    {
     "data": {
      "application/vnd.jupyter.widget-view+json": {
       "model_id": "",
       "version_major": 2,
       "version_minor": 0
      },
      "text/plain": [
       "FloatProgress(value=0.0, bar_style='info', description='Progress:', layout=Layout(height='25px', width='50%'),…"
      ]
     },
     "metadata": {},
     "output_type": "display_data"
    },
    {
     "name": "stdout",
     "output_type": "stream",
     "text": [
      "<SparkContext master=yarn appName=livy-session-0>"
     ]
    }
   ],
   "source": [
    "sc"
   ]
  },
  {
   "cell_type": "code",
   "execution_count": 3,
   "id": "2df6a76c",
   "metadata": {},
   "outputs": [
    {
     "data": {
      "application/vnd.jupyter.widget-view+json": {
       "model_id": "",
       "version_major": 2,
       "version_minor": 0
      },
      "text/plain": [
       "FloatProgress(value=0.0, bar_style='info', description='Progress:', layout=Layout(height='25px', width='50%'),…"
      ]
     },
     "metadata": {},
     "output_type": "display_data"
    }
   ],
   "source": [
    "# Leer tablas desde Glue catalog\n",
    "data_filtered_df = spark.sql(\"SELECT * FROM proyecto1db.data_filtered\")\n",
    "data_selected_df = spark.sql(\"SELECT * FROM proyecto1db.data_selected\")"
   ]
  },
  {
   "cell_type": "code",
   "execution_count": 4,
   "id": "5a7fbb7b",
   "metadata": {},
   "outputs": [
    {
     "data": {
      "application/vnd.jupyter.widget-view+json": {
       "model_id": "",
       "version_major": 2,
       "version_minor": 0
      },
      "text/plain": [
       "FloatProgress(value=0.0, bar_style='info', description='Progress:', layout=Layout(height='25px', width='50%'),…"
      ]
     },
     "metadata": {},
     "output_type": "display_data"
    },
    {
     "name": "stdout",
     "output_type": "stream",
     "text": [
      "(3111, 32)"
     ]
    }
   ],
   "source": [
    "print((data_filtered_df.count(),len(data_filtered_df.columns)))"
   ]
  },
  {
   "cell_type": "code",
   "execution_count": 5,
   "id": "d5b08892",
   "metadata": {},
   "outputs": [
    {
     "data": {
      "application/vnd.jupyter.widget-view+json": {
       "model_id": "",
       "version_major": 2,
       "version_minor": 0
      },
      "text/plain": [
       "FloatProgress(value=0.0, bar_style='info', description='Progress:', layout=Layout(height='25px', width='50%'),…"
      ]
     },
     "metadata": {},
     "output_type": "display_data"
    },
    {
     "name": "stdout",
     "output_type": "stream",
     "text": [
      "(3043, 21)"
     ]
    }
   ],
   "source": [
    "print((data_selected_df.count(),len(data_selected_df.columns)))"
   ]
  },
  {
   "cell_type": "code",
   "execution_count": 6,
   "id": "a94a68a2",
   "metadata": {},
   "outputs": [
    {
     "data": {
      "application/vnd.jupyter.widget-view+json": {
       "model_id": "",
       "version_major": 2,
       "version_minor": 0
      },
      "text/plain": [
       "FloatProgress(value=0.0, bar_style='info', description='Progress:', layout=Layout(height='25px', width='50%'),…"
      ]
     },
     "metadata": {},
     "output_type": "display_data"
    }
   ],
   "source": [
    "# Crear vistas temporales\n",
    "data_filtered_df.createOrReplaceTempView(\"data_filtered\")\n",
    "data_selected_df.createOrReplaceTempView(\"data_selected\")"
   ]
  },
  {
   "cell_type": "markdown",
   "id": "8803a933",
   "metadata": {},
   "source": [
    "## Consultas sobre data_filtered"
   ]
  },
  {
   "cell_type": "markdown",
   "id": "601a8b69",
   "metadata": {},
   "source": [
    "### Promedio de \"life_expect\" por región y año"
   ]
  },
  {
   "cell_type": "code",
   "execution_count": 7,
   "id": "1738f6b0",
   "metadata": {},
   "outputs": [
    {
     "data": {
      "application/vnd.jupyter.widget-view+json": {
       "model_id": "",
       "version_major": 2,
       "version_minor": 0
      },
      "text/plain": [
       "FloatProgress(value=0.0, bar_style='info', description='Progress:', layout=Layout(height='25px', width='50%'),…"
      ]
     },
     "metadata": {},
     "output_type": "display_data"
    },
    {
     "name": "stdout",
     "output_type": "stream",
     "text": [
      "+--------------------+----+-----------------+\n",
      "|              region|year|  avg_life_expect|\n",
      "+--------------------+----+-----------------+\n",
      "|     Western Pacific|2012|73.40539523809525|\n",
      "|              Europe|2003|74.37888519999997|\n",
      "|     Western Pacific|2013|73.60727952380951|\n",
      "|              Africa|2004|54.57335553191489|\n",
      "|     Western Pacific|2005|71.44733047619047|\n",
      "|              Africa|2005|55.26475893617022|\n",
      "|              Europe|2013|77.26617479999999|\n",
      "|     South-East Asia|2007|68.53513545454545|\n",
      "|              Europe|2009|       76.1217004|\n",
      "|            Americas|2005|72.58002818181816|\n",
      "|            Americas|2016| 74.8009187878788|\n",
      "|Eastern Mediterra...|2014| 70.6429480952381|\n",
      "|            Americas|2009|73.68769696969697|\n",
      "|Eastern Mediterra...|2003|68.51041380952381|\n",
      "|     South-East Asia|2000|65.01156272727273|\n",
      "|            Americas|2007|73.22829212121214|\n",
      "|     Western Pacific|2014| 73.7472580952381|\n",
      "|     South-East Asia|2010|69.75635181818183|\n",
      "|              Europe|2012|76.92319580000002|\n",
      "|     Western Pacific|2008|72.39208333333333|\n",
      "+--------------------+----+-----------------+\n",
      "only showing top 20 rows"
     ]
    }
   ],
   "source": [
    "df_life_expect_avg = spark.sql(\"\"\"\n",
    "    SELECT region, year, AVG(life_expect) AS avg_life_expect\n",
    "    FROM data_filtered\n",
    "    GROUP BY region, year\n",
    "\"\"\")\n",
    "\n",
    "df_life_expect_avg.show()"
   ]
  },
  {
   "cell_type": "markdown",
   "id": "740c99b2",
   "metadata": {},
   "source": [
    "### Promedio de \"adult_mortality\" por región y año"
   ]
  },
  {
   "cell_type": "code",
   "execution_count": 8,
   "id": "4ac29850",
   "metadata": {},
   "outputs": [
    {
     "data": {
      "application/vnd.jupyter.widget-view+json": {
       "model_id": "",
       "version_major": 2,
       "version_minor": 0
      },
      "text/plain": [
       "FloatProgress(value=0.0, bar_style='info', description='Progress:', layout=Layout(height='25px', width='50%'),…"
      ]
     },
     "metadata": {},
     "output_type": "display_data"
    },
    {
     "name": "stdout",
     "output_type": "stream",
     "text": [
      "+--------------------+----+-------------------+\n",
      "|              region|year|avg_adult_mortality|\n",
      "+--------------------+----+-------------------+\n",
      "|     Western Pacific|2012| 139.58188047619046|\n",
      "|              Europe|2003| 135.07821220000005|\n",
      "|     Western Pacific|2013| 137.62354142857146|\n",
      "|              Africa|2004| 379.70955957446813|\n",
      "|     Western Pacific|2005| 158.73113952380953|\n",
      "|              Africa|2005| 371.35678723404243|\n",
      "|              Europe|2013| 107.55768559999999|\n",
      "|     South-East Asia|2007| 176.44963090909093|\n",
      "|              Europe|2009|        120.7584472|\n",
      "|            Americas|2005| 163.11294818181818|\n",
      "|            Americas|2016| 142.85867606060603|\n",
      "|Eastern Mediterra...|2014|  153.2661576190476|\n",
      "|            Americas|2009| 153.55009030303023|\n",
      "|Eastern Mediterra...|2003| 168.94082904761905|\n",
      "|     South-East Asia|2000|  214.7688454545454|\n",
      "|            Americas|2007| 157.04100030303036|\n",
      "|     Western Pacific|2014| 136.13673333333332|\n",
      "|     South-East Asia|2010|          165.92593|\n",
      "|              Europe|2012|        110.6162462|\n",
      "|     Western Pacific|2008| 149.61356047619051|\n",
      "+--------------------+----+-------------------+\n",
      "only showing top 20 rows"
     ]
    }
   ],
   "source": [
    "df_adult_mortality_avg = spark.sql(\"\"\"\n",
    "    SELECT region, year, AVG(adult_mortality) AS avg_adult_mortality\n",
    "    FROM data_filtered\n",
    "    GROUP BY region, year\n",
    "\"\"\")\n",
    "\n",
    "df_adult_mortality_avg.show()"
   ]
  },
  {
   "cell_type": "markdown",
   "id": "527f46d5",
   "metadata": {},
   "source": [
    "### Promedio de \"infant_mort\" por región y año"
   ]
  },
  {
   "cell_type": "code",
   "execution_count": 9,
   "id": "5c3b7cf2",
   "metadata": {},
   "outputs": [
    {
     "data": {
      "application/vnd.jupyter.widget-view+json": {
       "model_id": "",
       "version_major": 2,
       "version_minor": 0
      },
      "text/plain": [
       "FloatProgress(value=0.0, bar_style='info', description='Progress:', layout=Layout(height='25px', width='50%'),…"
      ]
     },
     "metadata": {},
     "output_type": "display_data"
    },
    {
     "name": "stdout",
     "output_type": "stream",
     "text": [
      "+--------------------+----+--------------------+\n",
      "|              region|year|     avg_infant_mort|\n",
      "+--------------------+----+--------------------+\n",
      "|     Western Pacific|2012|0.019672857142857145|\n",
      "|              Europe|2003|0.013677500000000004|\n",
      "|     Western Pacific|2013|              0.0195|\n",
      "|              Africa|2004| 0.07774765957446808|\n",
      "|     Western Pacific|2005|0.025907142857142865|\n",
      "|              Africa|2005| 0.07470351063829787|\n",
      "|              Europe|2013|0.008135000000000002|\n",
      "|     South-East Asia|2007|0.037424090909090914|\n",
      "|              Europe|2009|0.009865000000000002|\n",
      "|            Americas|2005|0.021162121212121212|\n",
      "|            Americas|2016|0.015273333333333333|\n",
      "|Eastern Mediterra...|2014|0.027230238095238096|\n",
      "|            Americas|2009|0.018654999999999995|\n",
      "|Eastern Mediterra...|2003| 0.03820833333333334|\n",
      "|     South-East Asia|2000|0.052609545454545464|\n",
      "|            Americas|2007|0.019878787878787878|\n",
      "|     Western Pacific|2014|0.019331904761904762|\n",
      "|     South-East Asia|2010| 0.03213681818181818|\n",
      "|              Europe|2012|           0.0085293|\n",
      "|     Western Pacific|2008|0.022086904761904762|\n",
      "+--------------------+----+--------------------+\n",
      "only showing top 20 rows"
     ]
    }
   ],
   "source": [
    "df_infant_mort_avg = spark.sql(\"\"\"\n",
    "    SELECT region, year, AVG(infant_mort) AS avg_infant_mort\n",
    "    FROM data_filtered\n",
    "    GROUP BY region, year\n",
    "\"\"\")\n",
    "\n",
    "df_infant_mort_avg.show()"
   ]
  },
  {
   "cell_type": "markdown",
   "id": "a871e47d",
   "metadata": {},
   "source": [
    "### Promedio de \"life_exp60\" por región y año"
   ]
  },
  {
   "cell_type": "code",
   "execution_count": 10,
   "id": "3898bd2a",
   "metadata": {},
   "outputs": [
    {
     "data": {
      "application/vnd.jupyter.widget-view+json": {
       "model_id": "",
       "version_major": 2,
       "version_minor": 0
      },
      "text/plain": [
       "FloatProgress(value=0.0, bar_style='info', description='Progress:', layout=Layout(height='25px', width='50%'),…"
      ]
     },
     "metadata": {},
     "output_type": "display_data"
    },
    {
     "name": "stdout",
     "output_type": "stream",
     "text": [
      "+--------------------+----+------------------+\n",
      "|              region|year|    avg_life_exp60|\n",
      "+--------------------+----+------------------+\n",
      "|     Western Pacific|2012| 19.76756380952381|\n",
      "|              Europe|2003|         19.876067|\n",
      "|     Western Pacific|2013|19.877525238095238|\n",
      "|              Africa|2004|15.601347872340432|\n",
      "|     Western Pacific|2005|18.927071904761902|\n",
      "|              Africa|2005|15.736671702127659|\n",
      "|              Europe|2013|        21.5305942|\n",
      "|     South-East Asia|2007| 17.86736363636363|\n",
      "|              Europe|2009|        20.9392102|\n",
      "|            Americas|2005| 20.29214303030303|\n",
      "|            Americas|2016|21.440692121212116|\n",
      "|Eastern Mediterra...|2014| 18.63990523809524|\n",
      "|            Americas|2009| 20.98739363636363|\n",
      "|Eastern Mediterra...|2003|17.747549523809525|\n",
      "|     South-East Asia|2000|17.037633636363633|\n",
      "|            Americas|2007| 20.70637212121212|\n",
      "|     Western Pacific|2014|19.949246190476195|\n",
      "|     South-East Asia|2010|18.253189090909093|\n",
      "|              Europe|2012|21.300833199999996|\n",
      "|     Western Pacific|2008|19.299982380952382|\n",
      "+--------------------+----+------------------+\n",
      "only showing top 20 rows"
     ]
    }
   ],
   "source": [
    "df_life_exp60_avg = spark.sql(\"\"\"\n",
    "    SELECT region, year, AVG(life_exp60) AS avg_life_exp60\n",
    "    FROM data_filtered\n",
    "    GROUP BY region, year\n",
    "\"\"\")\n",
    "\n",
    "df_life_exp60_avg.show()"
   ]
  },
  {
   "cell_type": "markdown",
   "id": "aac6f3fe",
   "metadata": {},
   "source": [
    "### Promedio de \"age1-4mort\" por región y año"
   ]
  },
  {
   "cell_type": "code",
   "execution_count": 25,
   "id": "db2eeeb2",
   "metadata": {},
   "outputs": [
    {
     "data": {
      "application/vnd.jupyter.widget-view+json": {
       "model_id": "",
       "version_major": 2,
       "version_minor": 0
      },
      "text/plain": [
       "FloatProgress(value=0.0, bar_style='info', description='Progress:', layout=Layout(height='25px', width='50%'),…"
      ]
     },
     "metadata": {},
     "output_type": "display_data"
    },
    {
     "name": "stdout",
     "output_type": "stream",
     "text": [
      "+--------------------+----+--------------------+\n",
      "|              region|year|      avg_age1_4mort|\n",
      "+--------------------+----+--------------------+\n",
      "|     Western Pacific|2012|0.001221190476190...|\n",
      "|              Europe|2003|6.530999999999999E-4|\n",
      "|     Western Pacific|2013|0.001177142857142857|\n",
      "|              Africa|2004|0.012139574468085107|\n",
      "|     Western Pacific|2005|0.001710238095238...|\n",
      "|              Africa|2005|0.011447021276595746|\n",
      "|              Europe|2013|3.508000000000000...|\n",
      "|     South-East Asia|2007|0.002523636363636...|\n",
      "|              Europe|2009|4.449000000000001E-4|\n",
      "|            Americas|2005|0.001141060606060...|\n",
      "|            Americas|2016|7.465151515151516E-4|\n",
      "|Eastern Mediterra...|2014|0.002220952380952381|\n",
      "|            Americas|2009|9.613636363636363E-4|\n",
      "|Eastern Mediterra...|2003|0.003367857142857...|\n",
      "|     South-East Asia|2000|0.004420454545454545|\n",
      "|            Americas|2007|0.001051363636363...|\n",
      "|     Western Pacific|2014|0.001140714285714...|\n",
      "|     South-East Asia|2010|0.002030454545454...|\n",
      "|              Europe|2012|3.707999999999999...|\n",
      "|     Western Pacific|2008|0.001504999999999...|\n",
      "+--------------------+----+--------------------+\n",
      "only showing top 20 rows"
     ]
    }
   ],
   "source": [
    "df_age1_4mort_avg = spark.sql(\"\"\"\n",
    "    SELECT region, year, AVG(`age1-4mort`) AS avg_age1_4mort\n",
    "    FROM data_filtered\n",
    "    GROUP BY region, year\n",
    "\"\"\")\n",
    "\n",
    "df_age1_4mort_avg.show()"
   ]
  },
  {
   "cell_type": "markdown",
   "id": "5ad24da9",
   "metadata": {},
   "source": [
    "### Cantidad de países únicos en data_filtered"
   ]
  },
  {
   "cell_type": "code",
   "execution_count": 12,
   "id": "366f218f",
   "metadata": {},
   "outputs": [
    {
     "data": {
      "application/vnd.jupyter.widget-view+json": {
       "model_id": "",
       "version_major": 2,
       "version_minor": 0
      },
      "text/plain": [
       "FloatProgress(value=0.0, bar_style='info', description='Progress:', layout=Layout(height='25px', width='50%'),…"
      ]
     },
     "metadata": {},
     "output_type": "display_data"
    },
    {
     "name": "stdout",
     "output_type": "stream",
     "text": [
      "+----------------+\n",
      "|unique_countries|\n",
      "+----------------+\n",
      "|             183|\n",
      "+----------------+"
     ]
    }
   ],
   "source": [
    "df_country_count_filtered = spark.sql(\"\"\"\n",
    "    SELECT COUNT(DISTINCT country) AS unique_countries\n",
    "    FROM data_filtered\n",
    "\"\"\")\n",
    "\n",
    "df_country_count_filtered.show()"
   ]
  },
  {
   "cell_type": "markdown",
   "id": "b96b49e5",
   "metadata": {},
   "source": [
    "## Consultas sobre data_selected"
   ]
  },
  {
   "cell_type": "markdown",
   "id": "3a40d4c5",
   "metadata": {},
   "source": [
    "### Cantidad de países únicos en data_selected"
   ]
  },
  {
   "cell_type": "code",
   "execution_count": 14,
   "id": "35feb745",
   "metadata": {},
   "outputs": [
    {
     "data": {
      "application/vnd.jupyter.widget-view+json": {
       "model_id": "",
       "version_major": 2,
       "version_minor": 0
      },
      "text/plain": [
       "FloatProgress(value=0.0, bar_style='info', description='Progress:', layout=Layout(height='25px', width='50%'),…"
      ]
     },
     "metadata": {},
     "output_type": "display_data"
    },
    {
     "name": "stdout",
     "output_type": "stream",
     "text": [
      "+----------------+\n",
      "|unique_countries|\n",
      "+----------------+\n",
      "|             179|\n",
      "+----------------+"
     ]
    }
   ],
   "source": [
    "df_country_count_selected = spark.sql(\"\"\"\n",
    "    SELECT COUNT(DISTINCT country) AS unique_countries\n",
    "    FROM data_selected\n",
    "\"\"\")\n",
    "\n",
    "df_country_count_selected.show()"
   ]
  },
  {
   "cell_type": "markdown",
   "id": "04957f8e",
   "metadata": {},
   "source": [
    "### Países con \"age5-19thinness\" igual o mayor al 20% en el año 2016"
   ]
  },
  {
   "cell_type": "code",
   "execution_count": 24,
   "id": "d36f506a",
   "metadata": {},
   "outputs": [
    {
     "data": {
      "application/vnd.jupyter.widget-view+json": {
       "model_id": "",
       "version_major": 2,
       "version_minor": 0
      },
      "text/plain": [
       "FloatProgress(value=0.0, bar_style='info', description='Progress:', layout=Layout(height='25px', width='50%'),…"
      ]
     },
     "metadata": {},
     "output_type": "display_data"
    },
    {
     "name": "stdout",
     "output_type": "stream",
     "text": [
      "+---------------+-------+------------+----+-----------+-------+-------+------------------+-------------+-----------+-------+----+---------------+--------------+-------+---------+-------+-----+----------+-------+-----------------+\n",
      "|         region|country|country_code|year|    une_pop|une_gni| gghe-d|           che_gdp|une_edu_spend|basic_water|doctors| bmi|age5-19thinness|age5-19obesity|alcohol|hepatitis|measles|polio|diphtheria|une_hiv|      life_expect|\n",
      "+---------------+-------+------------+----+-----------+-------+-------+------------------+-------------+-----------+-------+----+---------------+--------------+-------+---------+-------+-----+----------+-------+-----------------+\n",
      "|South-East Asia|  India|         IND|2016|1324517.249| 6560.0|0.94229|3.5109800000000004|         NULL|   91.85928|   7.59|21.8|           26.9|           2.0|2.96659|     88.0|   88.0| 86.0|      88.0|   NULL|68.82571999999999|\n",
      "+---------------+-------+------------+----+-----------+-------+-------+------------------+-------------+-----------+-------+----+---------------+--------------+-------+---------+-------+-----+----------+-------+-----------------+"
     ]
    }
   ],
   "source": [
    "df_thinness_gt20 = spark.sql(\"\"\"\n",
    "    SELECT *\n",
    "    FROM data_selected\n",
    "    WHERE year = 2016 AND `age5-19thinness` >= 20\n",
    "\"\"\")\n",
    "\n",
    "df_thinness_gt20.show()"
   ]
  },
  {
   "cell_type": "markdown",
   "id": "1626803b",
   "metadata": {},
   "source": [
    "### Países con \"age5-19obesity\" igual o mayor al 20% en el año 2016"
   ]
  },
  {
   "cell_type": "code",
   "execution_count": 26,
   "id": "3bd1bdf9",
   "metadata": {},
   "outputs": [
    {
     "data": {
      "application/vnd.jupyter.widget-view+json": {
       "model_id": "",
       "version_major": 2,
       "version_minor": 0
      },
      "text/plain": [
       "FloatProgress(value=0.0, bar_style='info', description='Progress:', layout=Layout(height='25px', width='50%'),…"
      ]
     },
     "metadata": {},
     "output_type": "display_data"
    },
    {
     "name": "stdout",
     "output_type": "stream",
     "text": [
      "+--------------------+--------------------+------------+----+----------+-------+------------------+------------------+-------------+-----------+-------+----+---------------+--------------+-------+---------+-------+-----+----------+-------+-----------------+\n",
      "|              region|             country|country_code|year|   une_pop|une_gni|            gghe-d|           che_gdp|une_edu_spend|basic_water|doctors| bmi|age5-19thinness|age5-19obesity|alcohol|hepatitis|measles|polio|diphtheria|une_hiv|      life_expect|\n",
      "+--------------------+--------------------+------------+----+----------+-------+------------------+------------------+-------------+-----------+-------+----+---------------+--------------+-------+---------+-------+-----+----------+-------+-----------------+\n",
      "|            Americas|United States of ...|         USA|2016|323015.995|58960.0| 8.618219999999999|          17.19726|         NULL|   99.26371| 25.881|28.9|            0.7|          21.4| 8.8569|     93.0|   92.0| 94.0|      95.0|    0.4|         78.49759|\n",
      "|Eastern Mediterra...|              Kuwait|         KWT|2016|  3956.875|85900.0|3.3359900000000002|3.9735400000000003|         NULL|      100.0|   NULL|29.6|            3.5|          22.9|0.00811|     99.0|   99.0| 99.0|      99.0|    0.1|74.78218000000001|\n",
      "|     Western Pacific|Micronesia (Feder...|         FSM|2016|   110.215| 3930.0|3.4130199999999995|          12.59097|         NULL|   78.56648|   NULL|29.7|            0.2|          20.7|1.58653|     76.0|   70.0| 68.0|      69.0|   NULL|         69.59525|\n",
      "|     Western Pacific|               Tonga|         TON|2016|   101.133| 6130.0|           2.98941|           5.17825|         NULL|   99.90674|   NULL|32.2|            0.1|          26.7|0.27958|     96.0|   98.0| 96.0|      96.0|   NULL|         73.42995|\n",
      "|     Western Pacific|               Samoa|         WSM|2016|   194.535| 6260.0|           4.22545|           5.53209|      4.08047|   97.30364|  3.445|32.2|            0.2|          21.7| 2.1751|     80.0|   68.0| 77.0|      80.0|   NULL|           75.068|\n",
      "|     Western Pacific|            Kiribati|         KIR|2016|   112.524| 4300.0|           7.41374|           9.32037|         NULL|   70.34607|   NULL|30.1|            0.1|          23.0|0.37722|     81.0|   80.0| 82.0|      81.0|   NULL|         66.12499|\n",
      "+--------------------+--------------------+------------+----+----------+-------+------------------+------------------+-------------+-----------+-------+----+---------------+--------------+-------+---------+-------+-----+----------+-------+-----------------+"
     ]
    }
   ],
   "source": [
    "df_obesity_gt20 = spark.sql(\"\"\"\n",
    "    SELECT *\n",
    "    FROM data_selected\n",
    "    WHERE year = 2016 AND `age5-19obesity` >= 20\n",
    "\"\"\")\n",
    "\n",
    "df_obesity_gt20.show()"
   ]
  },
  {
   "cell_type": "markdown",
   "id": "08b9c4d0",
   "metadata": {},
   "source": [
    "### Países con \"hepatitis\" igual o menor al 80% en el año 2016"
   ]
  },
  {
   "cell_type": "code",
   "execution_count": 23,
   "id": "8c637307",
   "metadata": {},
   "outputs": [
    {
     "data": {
      "application/vnd.jupyter.widget-view+json": {
       "model_id": "",
       "version_major": 2,
       "version_minor": 0
      },
      "text/plain": [
       "FloatProgress(value=0.0, bar_style='info', description='Progress:', layout=Layout(height='25px', width='50%'),…"
      ]
     },
     "metadata": {},
     "output_type": "display_data"
    },
    {
     "name": "stdout",
     "output_type": "stream",
     "text": [
      "+--------+--------------------+------------+----+------------------+-------+-------------------+------------------+------------------+------------------+-------------------+----+---------------+--------------+------------------+---------+-------+-----+----------+-------+------------------+\n",
      "|  region|             country|country_code|year|           une_pop|une_gni|             gghe-d|           che_gdp|     une_edu_spend|       basic_water|            doctors| bmi|age5-19thinness|age5-19obesity|           alcohol|hepatitis|measles|polio|diphtheria|une_hiv|       life_expect|\n",
      "+--------+--------------------+------------+----+------------------+-------+-------------------+------------------+------------------+------------------+-------------------+----+---------------+--------------+------------------+---------+-------+-----+----------+-------+------------------+\n",
      "|  Africa|              Angola|         AGO|2016|28842.488999999998| 6410.0|            1.19754|           2.71315|              NULL| 55.08428000000001|               NULL|23.3|            8.3|           2.4|           5.38006|     55.0|   45.0| 53.0|      59.0|    1.9|62.632619999999996|\n",
      "|  Africa|               Benin|         BEN|2016|         10872.063| 2160.0|            0.79185|           3.85561|3.9946900000000003|          66.32024|0.48100000000000004|23.5|            6.9|           2.6|           1.46034|     76.0|   68.0| 75.0|      76.0|    1.1|          61.08568|\n",
      "|  Africa|Central African R...|         CAF|2016|          4537.686|  790.0|            0.62973|            4.2815|              NULL|          46.33376|               NULL|22.9|            8.2|           2.2|0.8742200000000001|     47.0|   49.0| 47.0|      47.0|    3.9|           53.0428|\n",
      "|  Africa|        South Africa|         ZAF|2016| 56207.64599999999|12880.0|            4.35684|           8.09583|           5.94285|          92.27031|  7.997000000000001|27.3|            4.7|          11.3|7.3032699999999995|     76.0|   85.0| 76.0|      76.0|   20.4|63.599509999999995|\n",
      "|  Africa|                Chad|         TCD|2016|          14561.66| 1980.0| 0.8311299999999999|           4.95711|              NULL|          38.85259|0.47100000000000003|21.9|            8.4|           1.5|           0.50193|     41.0|   37.0| 44.0|      41.0|    1.4|          54.25685|\n",
      "|  Africa|               Niger|         NER|2016|         20788.798|  960.0|            1.49732|           6.16464|           4.08372|          49.50156|              0.433|21.8|            9.5|           1.4|           0.13217|     80.0|   76.0| 82.0|      80.0|    0.3|          59.82668|\n",
      "|  Africa|             Nigeria|         NGA|2016|        185960.241| 5760.0|            0.47497|           3.64774|              NULL|          70.02553|              4.494|23.2|            9.7|           1.9|           7.81502|     53.0|   51.0| 53.0|      53.0|    1.5|          55.19205|\n",
      "|  Africa|          Madagascar|         MDG|2016|          24894.37| 1450.0|            2.81872|           6.11717|3.1971700000000003|          53.18465|               NULL|21.3|            7.1|           1.8|0.8887799999999999|     77.0|   59.0| 75.0|      77.0|    0.2|          66.08802|\n",
      "|  Africa|                Mali|         MLI|2016|         17965.443| 2070.0|            1.20928|           3.77538|3.0960400000000003|          76.58435|              1.395|23.0|            7.7|           2.6|           0.58272|     76.0|   70.0| 72.0|      76.0|    1.3| 57.95288000000001|\n",
      "|  Africa|          Mauritania|         MRT|2016| 4163.532999999999| 3890.0| 1.6417700000000002|           4.13082|2.6310700000000002|          68.83202|               NULL|24.9|            7.7|           4.0|            9.1E-4|     74.0|   72.0| 73.0|      74.0|    0.2|          63.94022|\n",
      "|  Africa|           Mauritius|         MUS|2016|          1261.865|22880.0|             2.5174|           5.70679|            5.0136|          99.86639|             21.943|25.2|            6.9|           4.4|           3.06898|     72.0|   92.0| 96.0|      96.0|    1.3|          74.82426|\n",
      "|  Africa|   Equatorial Guinea|         GNQ|2016|           1215.18|20330.0| 0.6944899999999999|           3.15718|              NULL| 64.42551999999999|               NULL|24.0|            8.3|           2.3| 7.259189999999999|     53.0|   53.0| 55.0|      53.0|    6.9|59.537319999999994|\n",
      "|  Africa|            Ethiopia|         ETH|2016|        103603.462| 1740.0|            0.91569|3.8511900000000003|              NULL|          40.04142|0.46399999999999997|20.6|           10.4|           1.1|           0.85709|     66.0|   57.0| 72.0|      66.0|    1.1|          65.51109|\n",
      "|  Africa|               Gabon|         GAB|2016|2007.8729999999998|16450.0|            2.01055|            3.1077|              NULL| 85.62704000000001| 3.5610000000000004|25.2|            6.0|           4.2|           7.49607|     75.0|   64.0| 74.0|      75.0|    3.9|           66.4489|\n",
      "|  Africa|              Guinea|         GIN|2016|11738.428999999998| 2130.0|            0.65683|           5.34074|            2.5445|          62.10819| 0.8320000000000001|22.9|            7.3|           1.7|           0.34704|     47.0|   47.0| 48.0|      47.0|    1.5|          59.79942|\n",
      "|  Africa|            Cameroon|         CMR|2016|         23926.551| 3490.0|            0.61778|           4.67908|           2.65423|60.155719999999995|               NULL|24.3|            5.5|           2.8| 4.145580000000001|     75.0|   71.0| 75.0|      75.0|    3.8|58.064319999999995|\n",
      "|  Africa|Democratic Republ...|         COD|2016| 78789.12700000001|  850.0|0.49061000000000005|3.8874199999999997|           2.11869|          42.97677|               0.74|22.0|            9.4|           2.2|0.6120800000000001|     57.0|   57.0| 57.0|      57.0|    0.8|          60.45245|\n",
      "|  Africa|               Congo|         COG|2016|          4980.996| 5410.0|            1.57132|           3.48695|              NULL|          72.18665|               NULL|23.2|            7.4|           2.0|           5.86494|     71.0|   67.0| 71.0|      71.0|    2.8|          64.30374|\n",
      "|Americas|            Suriname|         SUR|2016|           564.888|13810.0| 3.8874199999999997|6.2794099999999995|              NULL|           94.5194| 11.312000000000001|26.5|            3.5|          13.9|           4.40653|     77.0|   76.0| 77.0|      77.0|    1.4| 71.80816999999999|\n",
      "|Americas|           Guatemala|         GTM|2016|         16583.076| 7780.0|            2.18775|6.0086699999999995|           2.83281|          93.72089|               NULL|26.6|            1.2|           9.9|1.5933700000000002|     80.0|   86.0| 82.0|      80.0|    0.4|          73.22707|\n",
      "+--------+--------------------+------------+----+------------------+-------+-------------------+------------------+------------------+------------------+-------------------+----+---------------+--------------+------------------+---------+-------+-----+----------+-------+------------------+\n",
      "only showing top 20 rows"
     ]
    }
   ],
   "source": [
    "df_hepatitis_le80 = spark.sql(\"\"\"\n",
    "    SELECT *\n",
    "    FROM data_selected\n",
    "    WHERE year = 2016 AND hepatitis <= 80\n",
    "\"\"\")\n",
    "\n",
    "df_hepatitis_le80.show()"
   ]
  },
  {
   "cell_type": "markdown",
   "id": "5a012365",
   "metadata": {},
   "source": [
    "### Países con \"measles\" igual o menor al 80% en el año 2016"
   ]
  },
  {
   "cell_type": "code",
   "execution_count": 27,
   "id": "09fa11c0",
   "metadata": {},
   "outputs": [
    {
     "data": {
      "application/vnd.jupyter.widget-view+json": {
       "model_id": "",
       "version_major": 2,
       "version_minor": 0
      },
      "text/plain": [
       "FloatProgress(value=0.0, bar_style='info', description='Progress:', layout=Layout(height='25px', width='50%'),…"
      ]
     },
     "metadata": {},
     "output_type": "display_data"
    },
    {
     "name": "stdout",
     "output_type": "stream",
     "text": [
      "+------+--------------------+------------+----+------------------+-------+-------------------+------------------+------------------+------------------+-------------------+----+---------------+--------------+------------------+---------+-------+-----+----------+-------+------------------+\n",
      "|region|             country|country_code|year|           une_pop|une_gni|             gghe-d|           che_gdp|     une_edu_spend|       basic_water|            doctors| bmi|age5-19thinness|age5-19obesity|           alcohol|hepatitis|measles|polio|diphtheria|une_hiv|       life_expect|\n",
      "+------+--------------------+------------+----+------------------+-------+-------------------+------------------+------------------+------------------+-------------------+----+---------------+--------------+------------------+---------+-------+-----+----------+-------+------------------+\n",
      "|Africa|              Angola|         AGO|2016|28842.488999999998| 6410.0|            1.19754|           2.71315|              NULL| 55.08428000000001|               NULL|23.3|            8.3|           2.4|           5.38006|     55.0|   45.0| 53.0|      59.0|    1.9|62.632619999999996|\n",
      "|Africa|               Benin|         BEN|2016|         10872.063| 2160.0|            0.79185|           3.85561|3.9946900000000003|          66.32024|0.48100000000000004|23.5|            6.9|           2.6|           1.46034|     76.0|   68.0| 75.0|      76.0|    1.1|          61.08568|\n",
      "|Africa|Central African R...|         CAF|2016|          4537.686|  790.0|            0.62973|            4.2815|              NULL|          46.33376|               NULL|22.9|            8.2|           2.2|0.8742200000000001|     47.0|   49.0| 47.0|      47.0|    3.9|           53.0428|\n",
      "|Africa|              Uganda|         UGA|2016|         39649.166| 1870.0|            1.01091|           6.40679|           2.55882|          47.66563|               NULL|22.5|            5.6|           1.7|          12.10029|     93.0|   79.0| 88.0|      93.0|    6.1|          62.49541|\n",
      "|Africa|                Chad|         TCD|2016|          14561.66| 1980.0| 0.8311299999999999|           4.95711|              NULL|          38.85259|0.47100000000000003|21.9|            8.4|           1.5|           0.50193|     41.0|   37.0| 44.0|      41.0|    1.4|          54.25685|\n",
      "|Africa|                Togo|         TGO|2016|          7509.951| 1640.0|            1.31996| 6.577030000000001|           5.03305|          64.02144|              0.128|23.6|            6.4|           2.0|           1.26159|     82.0|   73.0| 81.0|      82.0|    2.4|60.610980000000005|\n",
      "|Africa|             Namibia|         NAM|2016|          2358.044|11000.0| 4.1550400000000005|           9.11031|              NULL|          82.21806|               NULL|24.2|            8.2|           4.9|            4.3259|     85.0|   75.0| 84.0|      85.0|   12.3|          63.67717|\n",
      "|Africa|               Niger|         NER|2016|         20788.798|  960.0|            1.49732|           6.16464|           4.08372|          49.50156|              0.433|21.8|            9.5|           1.4|           0.13217|     80.0|   76.0| 82.0|      80.0|    0.3|          59.82668|\n",
      "|Africa|             Nigeria|         NGA|2016|        185960.241| 5760.0|            0.47497|           3.64774|              NULL|          70.02553|              4.494|23.2|            9.7|           1.9|           7.81502|     53.0|   51.0| 53.0|      53.0|    1.5|          55.19205|\n",
      "|Africa|          Madagascar|         MDG|2016|          24894.37| 1450.0|            2.81872|           6.11717|3.1971700000000003|          53.18465|               NULL|21.3|            7.1|           1.8|0.8887799999999999|     77.0|   59.0| 75.0|      77.0|    0.2|          66.08802|\n",
      "|Africa|                Mali|         MLI|2016|         17965.443| 2070.0|            1.20928|           3.77538|3.0960400000000003|          76.58435|              1.395|23.0|            7.7|           2.6|           0.58272|     76.0|   70.0| 72.0|      76.0|    1.3| 57.95288000000001|\n",
      "|Africa|          Mauritania|         MRT|2016| 4163.532999999999| 3890.0| 1.6417700000000002|           4.13082|2.6310700000000002|          68.83202|               NULL|24.9|            7.7|           4.0|            9.1E-4|     74.0|   72.0| 73.0|      74.0|    0.2|          63.94022|\n",
      "|Africa|   Equatorial Guinea|         GNQ|2016|           1215.18|20330.0| 0.6944899999999999|           3.15718|              NULL| 64.42551999999999|               NULL|24.0|            8.3|           2.3| 7.259189999999999|     53.0|   53.0| 55.0|      53.0|    6.9|59.537319999999994|\n",
      "|Africa|             Liberia|         LBR|2016|          4586.787| 1160.0| 1.3842299999999998| 9.795860000000001|              NULL|          72.44901|               NULL|24.1|            6.5|           1.9|           3.53465|     84.0|   80.0| 84.0|      84.0|    1.4|          62.94294|\n",
      "|Africa|            Ethiopia|         ETH|2016|        103603.462| 1740.0|            0.91569|3.8511900000000003|              NULL|          40.04142|0.46399999999999997|20.6|           10.4|           1.1|           0.85709|     66.0|   57.0| 72.0|      66.0|    1.1|          65.51109|\n",
      "|Africa|               Gabon|         GAB|2016|2007.8729999999998|16450.0|            2.01055|            3.1077|              NULL| 85.62704000000001| 3.5610000000000004|25.2|            6.0|           4.2|           7.49607|     75.0|   64.0| 74.0|      75.0|    3.9|           66.4489|\n",
      "|Africa|              Guinea|         GIN|2016|11738.428999999998| 2130.0|            0.65683|           5.34074|            2.5445|          62.10819| 0.8320000000000001|22.9|            7.3|           1.7|           0.34704|     47.0|   47.0| 48.0|      47.0|    1.5|          59.79942|\n",
      "|Africa|       Côte d'Ivoire|         CIV|2016|         23822.714| 3650.0|            1.15385|           4.53622|           5.39423|          72.76205|               NULL|23.8|            5.5|           3.4|1.5345799999999998|     87.0|   73.0| 81.0|      87.0|    2.8|          54.59137|\n",
      "|Africa|            Cameroon|         CMR|2016|         23926.551| 3490.0|            0.61778|           4.67908|           2.65423|60.155719999999995|               NULL|24.3|            5.5|           2.8| 4.145580000000001|     75.0|   71.0| 75.0|      75.0|    3.8|58.064319999999995|\n",
      "|Africa|Democratic Republ...|         COD|2016| 78789.12700000001|  850.0|0.49061000000000005|3.8874199999999997|           2.11869|          42.97677|               0.74|22.0|            9.4|           2.2|0.6120800000000001|     57.0|   57.0| 57.0|      57.0|    0.8|          60.45245|\n",
      "+------+--------------------+------------+----+------------------+-------+-------------------+------------------+------------------+------------------+-------------------+----+---------------+--------------+------------------+---------+-------+-----+----------+-------+------------------+\n",
      "only showing top 20 rows"
     ]
    }
   ],
   "source": [
    "df_measles_le80 = spark.sql(\"\"\"\n",
    "    SELECT *\n",
    "    FROM data_selected\n",
    "    WHERE year = 2016 AND measles <= 80\n",
    "\"\"\")\n",
    "\n",
    "df_measles_le80.show()"
   ]
  },
  {
   "cell_type": "markdown",
   "id": "c61a46e4",
   "metadata": {},
   "source": [
    "### Países con \"polio\" igual o menor al 80% en el año 2016"
   ]
  },
  {
   "cell_type": "code",
   "execution_count": 28,
   "id": "46fa81a9",
   "metadata": {},
   "outputs": [
    {
     "data": {
      "application/vnd.jupyter.widget-view+json": {
       "model_id": "",
       "version_major": 2,
       "version_minor": 0
      },
      "text/plain": [
       "FloatProgress(value=0.0, bar_style='info', description='Progress:', layout=Layout(height='25px', width='50%'),…"
      ]
     },
     "metadata": {},
     "output_type": "display_data"
    },
    {
     "name": "stdout",
     "output_type": "stream",
     "text": [
      "+--------+--------------------+------------+----+------------------+-------+-------------------+------------------+------------------+------------------+-------------------+----+---------------+--------------+------------------+---------+-------+-----+----------+-------+------------------+\n",
      "|  region|             country|country_code|year|           une_pop|une_gni|             gghe-d|           che_gdp|     une_edu_spend|       basic_water|            doctors| bmi|age5-19thinness|age5-19obesity|           alcohol|hepatitis|measles|polio|diphtheria|une_hiv|       life_expect|\n",
      "+--------+--------------------+------------+----+------------------+-------+-------------------+------------------+------------------+------------------+-------------------+----+---------------+--------------+------------------+---------+-------+-----+----------+-------+------------------+\n",
      "|  Africa|              Angola|         AGO|2016|28842.488999999998| 6410.0|            1.19754|           2.71315|              NULL| 55.08428000000001|               NULL|23.3|            8.3|           2.4|           5.38006|     55.0|   45.0| 53.0|      59.0|    1.9|62.632619999999996|\n",
      "|  Africa|               Benin|         BEN|2016|         10872.063| 2160.0|            0.79185|           3.85561|3.9946900000000003|          66.32024|0.48100000000000004|23.5|            6.9|           2.6|           1.46034|     76.0|   68.0| 75.0|      76.0|    1.1|          61.08568|\n",
      "|  Africa|Central African R...|         CAF|2016|          4537.686|  790.0|            0.62973|            4.2815|              NULL|          46.33376|               NULL|22.9|            8.2|           2.2|0.8742200000000001|     47.0|   49.0| 47.0|      47.0|    3.9|           53.0428|\n",
      "|  Africa|        South Africa|         ZAF|2016| 56207.64599999999|12880.0|            4.35684|           8.09583|           5.94285|          92.27031|  7.997000000000001|27.3|            4.7|          11.3|7.3032699999999995|     76.0|   85.0| 76.0|      76.0|   20.4|63.599509999999995|\n",
      "|  Africa|                Chad|         TCD|2016|          14561.66| 1980.0| 0.8311299999999999|           4.95711|              NULL|          38.85259|0.47100000000000003|21.9|            8.4|           1.5|           0.50193|     41.0|   37.0| 44.0|      41.0|    1.4|          54.25685|\n",
      "|  Africa|             Nigeria|         NGA|2016|        185960.241| 5760.0|            0.47497|           3.64774|              NULL|          70.02553|              4.494|23.2|            9.7|           1.9|           7.81502|     53.0|   51.0| 53.0|      53.0|    1.5|          55.19205|\n",
      "|  Africa|          Madagascar|         MDG|2016|          24894.37| 1450.0|            2.81872|           6.11717|3.1971700000000003|          53.18465|               NULL|21.3|            7.1|           1.8|0.8887799999999999|     77.0|   59.0| 75.0|      77.0|    0.2|          66.08802|\n",
      "|  Africa|                Mali|         MLI|2016|         17965.443| 2070.0|            1.20928|           3.77538|3.0960400000000003|          76.58435|              1.395|23.0|            7.7|           2.6|           0.58272|     76.0|   70.0| 72.0|      76.0|    1.3| 57.95288000000001|\n",
      "|  Africa|          Mauritania|         MRT|2016| 4163.532999999999| 3890.0| 1.6417700000000002|           4.13082|2.6310700000000002|          68.83202|               NULL|24.9|            7.7|           4.0|            9.1E-4|     74.0|   72.0| 73.0|      74.0|    0.2|          63.94022|\n",
      "|  Africa|   Equatorial Guinea|         GNQ|2016|           1215.18|20330.0| 0.6944899999999999|           3.15718|              NULL| 64.42551999999999|               NULL|24.0|            8.3|           2.3| 7.259189999999999|     53.0|   53.0| 55.0|      53.0|    6.9|59.537319999999994|\n",
      "|  Africa|            Ethiopia|         ETH|2016|        103603.462| 1740.0|            0.91569|3.8511900000000003|              NULL|          40.04142|0.46399999999999997|20.6|           10.4|           1.1|           0.85709|     66.0|   57.0| 72.0|      66.0|    1.1|          65.51109|\n",
      "|  Africa|               Gabon|         GAB|2016|2007.8729999999998|16450.0|            2.01055|            3.1077|              NULL| 85.62704000000001| 3.5610000000000004|25.2|            6.0|           4.2|           7.49607|     75.0|   64.0| 74.0|      75.0|    3.9|           66.4489|\n",
      "|  Africa|              Guinea|         GIN|2016|11738.428999999998| 2130.0|            0.65683|           5.34074|            2.5445|          62.10819| 0.8320000000000001|22.9|            7.3|           1.7|           0.34704|     47.0|   47.0| 48.0|      47.0|    1.5|          59.79942|\n",
      "|  Africa|            Cameroon|         CMR|2016|         23926.551| 3490.0|            0.61778|           4.67908|           2.65423|60.155719999999995|               NULL|24.3|            5.5|           2.8| 4.145580000000001|     75.0|   71.0| 75.0|      75.0|    3.8|58.064319999999995|\n",
      "|  Africa|Democratic Republ...|         COD|2016| 78789.12700000001|  850.0|0.49061000000000005|3.8874199999999997|           2.11869|          42.97677|               0.74|22.0|            9.4|           2.2|0.6120800000000001|     57.0|   57.0| 57.0|      57.0|    0.8|          60.45245|\n",
      "|  Africa|               Congo|         COG|2016|          4980.996| 5410.0|            1.57132|           3.48695|              NULL|          72.18665|               NULL|23.2|            7.4|           2.0|           5.86494|     71.0|   67.0| 71.0|      71.0|    2.8|          64.30374|\n",
      "|Americas|            Suriname|         SUR|2016|           564.888|13810.0| 3.8874199999999997|6.2794099999999995|              NULL|           94.5194| 11.312000000000001|26.5|            3.5|          13.9|           4.40653|     77.0|   76.0| 77.0|      77.0|    1.4| 71.80816999999999|\n",
      "|Americas|               Haiti|         HTI|2016|          10839.97| 1800.0|             0.9297| 8.436869999999999|           2.44959| 65.02301999999999|               NULL|25.3|            3.9|          10.9|           2.72063|     64.0|   69.0| 64.0|      64.0|    2.1|           63.5098|\n",
      "|Americas|             Ecuador|         ECU|2016|         16491.116|11020.0|            4.23661| 8.295960000000001|              NULL|          93.68204|             20.368|27.3|            1.2|           9.4|3.3388199999999997|     83.0|   86.0| 79.0|      83.0|    0.4|          76.47446|\n",
      "|Americas|              Brazil|         BRA|2016|        206163.053|15010.0|            3.95497|           9.20621|              NULL|          97.84798|               NULL|26.6|            2.7|          10.8|           6.33272|     89.0|   95.0| 72.0|      89.0|    0.5|          75.13705|\n",
      "+--------+--------------------+------------+----+------------------+-------+-------------------+------------------+------------------+------------------+-------------------+----+---------------+--------------+------------------+---------+-------+-----+----------+-------+------------------+\n",
      "only showing top 20 rows"
     ]
    }
   ],
   "source": [
    "df_polio_le80 = spark.sql(\"\"\"\n",
    "    SELECT *\n",
    "    FROM data_selected\n",
    "    WHERE year = 2016 AND polio <= 80\n",
    "\"\"\")\n",
    "\n",
    "df_polio_le80.show()"
   ]
  },
  {
   "cell_type": "markdown",
   "id": "7cb72f10",
   "metadata": {},
   "source": [
    "### Países con \"diphtheria\" igual o menor al 80% en el año 2016"
   ]
  },
  {
   "cell_type": "code",
   "execution_count": 29,
   "id": "1d2a280d",
   "metadata": {},
   "outputs": [
    {
     "data": {
      "application/vnd.jupyter.widget-view+json": {
       "model_id": "",
       "version_major": 2,
       "version_minor": 0
      },
      "text/plain": [
       "FloatProgress(value=0.0, bar_style='info', description='Progress:', layout=Layout(height='25px', width='50%'),…"
      ]
     },
     "metadata": {},
     "output_type": "display_data"
    },
    {
     "name": "stdout",
     "output_type": "stream",
     "text": [
      "+--------+--------------------+------------+----+------------------+-------+-------------------+------------------+------------------+------------------+-------------------+----+---------------+--------------+------------------+---------+-------+-----+----------+-------+------------------+\n",
      "|  region|             country|country_code|year|           une_pop|une_gni|             gghe-d|           che_gdp|     une_edu_spend|       basic_water|            doctors| bmi|age5-19thinness|age5-19obesity|           alcohol|hepatitis|measles|polio|diphtheria|une_hiv|       life_expect|\n",
      "+--------+--------------------+------------+----+------------------+-------+-------------------+------------------+------------------+------------------+-------------------+----+---------------+--------------+------------------+---------+-------+-----+----------+-------+------------------+\n",
      "|  Africa|              Angola|         AGO|2016|28842.488999999998| 6410.0|            1.19754|           2.71315|              NULL| 55.08428000000001|               NULL|23.3|            8.3|           2.4|           5.38006|     55.0|   45.0| 53.0|      59.0|    1.9|62.632619999999996|\n",
      "|  Africa|               Benin|         BEN|2016|         10872.063| 2160.0|            0.79185|           3.85561|3.9946900000000003|          66.32024|0.48100000000000004|23.5|            6.9|           2.6|           1.46034|     76.0|   68.0| 75.0|      76.0|    1.1|          61.08568|\n",
      "|  Africa|Central African R...|         CAF|2016|          4537.686|  790.0|            0.62973|            4.2815|              NULL|          46.33376|               NULL|22.9|            8.2|           2.2|0.8742200000000001|     47.0|   49.0| 47.0|      47.0|    3.9|           53.0428|\n",
      "|  Africa|        South Africa|         ZAF|2016| 56207.64599999999|12880.0|            4.35684|           8.09583|           5.94285|          92.27031|  7.997000000000001|27.3|            4.7|          11.3|7.3032699999999995|     76.0|   85.0| 76.0|      76.0|   20.4|63.599509999999995|\n",
      "|  Africa|                Chad|         TCD|2016|          14561.66| 1980.0| 0.8311299999999999|           4.95711|              NULL|          38.85259|0.47100000000000003|21.9|            8.4|           1.5|           0.50193|     41.0|   37.0| 44.0|      41.0|    1.4|          54.25685|\n",
      "|  Africa|               Niger|         NER|2016|         20788.798|  960.0|            1.49732|           6.16464|           4.08372|          49.50156|              0.433|21.8|            9.5|           1.4|           0.13217|     80.0|   76.0| 82.0|      80.0|    0.3|          59.82668|\n",
      "|  Africa|             Nigeria|         NGA|2016|        185960.241| 5760.0|            0.47497|           3.64774|              NULL|          70.02553|              4.494|23.2|            9.7|           1.9|           7.81502|     53.0|   51.0| 53.0|      53.0|    1.5|          55.19205|\n",
      "|  Africa|          Madagascar|         MDG|2016|          24894.37| 1450.0|            2.81872|           6.11717|3.1971700000000003|          53.18465|               NULL|21.3|            7.1|           1.8|0.8887799999999999|     77.0|   59.0| 75.0|      77.0|    0.2|          66.08802|\n",
      "|  Africa|                Mali|         MLI|2016|         17965.443| 2070.0|            1.20928|           3.77538|3.0960400000000003|          76.58435|              1.395|23.0|            7.7|           2.6|           0.58272|     76.0|   70.0| 72.0|      76.0|    1.3| 57.95288000000001|\n",
      "|  Africa|          Mauritania|         MRT|2016| 4163.532999999999| 3890.0| 1.6417700000000002|           4.13082|2.6310700000000002|          68.83202|               NULL|24.9|            7.7|           4.0|            9.1E-4|     74.0|   72.0| 73.0|      74.0|    0.2|          63.94022|\n",
      "|  Africa|   Equatorial Guinea|         GNQ|2016|           1215.18|20330.0| 0.6944899999999999|           3.15718|              NULL| 64.42551999999999|               NULL|24.0|            8.3|           2.3| 7.259189999999999|     53.0|   53.0| 55.0|      53.0|    6.9|59.537319999999994|\n",
      "|  Africa|            Ethiopia|         ETH|2016|        103603.462| 1740.0|            0.91569|3.8511900000000003|              NULL|          40.04142|0.46399999999999997|20.6|           10.4|           1.1|           0.85709|     66.0|   57.0| 72.0|      66.0|    1.1|          65.51109|\n",
      "|  Africa|               Gabon|         GAB|2016|2007.8729999999998|16450.0|            2.01055|            3.1077|              NULL| 85.62704000000001| 3.5610000000000004|25.2|            6.0|           4.2|           7.49607|     75.0|   64.0| 74.0|      75.0|    3.9|           66.4489|\n",
      "|  Africa|              Guinea|         GIN|2016|11738.428999999998| 2130.0|            0.65683|           5.34074|            2.5445|          62.10819| 0.8320000000000001|22.9|            7.3|           1.7|           0.34704|     47.0|   47.0| 48.0|      47.0|    1.5|          59.79942|\n",
      "|  Africa|            Cameroon|         CMR|2016|         23926.551| 3490.0|            0.61778|           4.67908|           2.65423|60.155719999999995|               NULL|24.3|            5.5|           2.8| 4.145580000000001|     75.0|   71.0| 75.0|      75.0|    3.8|58.064319999999995|\n",
      "|  Africa|Democratic Republ...|         COD|2016| 78789.12700000001|  850.0|0.49061000000000005|3.8874199999999997|           2.11869|          42.97677|               0.74|22.0|            9.4|           2.2|0.6120800000000001|     57.0|   57.0| 57.0|      57.0|    0.8|          60.45245|\n",
      "|  Africa|               Congo|         COG|2016|          4980.996| 5410.0|            1.57132|           3.48695|              NULL|          72.18665|               NULL|23.2|            7.4|           2.0|           5.86494|     71.0|   67.0| 71.0|      71.0|    2.8|          64.30374|\n",
      "|Americas|            Suriname|         SUR|2016|           564.888|13810.0| 3.8874199999999997|6.2794099999999995|              NULL|           94.5194| 11.312000000000001|26.5|            3.5|          13.9|           4.40653|     77.0|   76.0| 77.0|      77.0|    1.4| 71.80816999999999|\n",
      "|Americas|           Guatemala|         GTM|2016|         16583.076| 7780.0|            2.18775|6.0086699999999995|           2.83281|          93.72089|               NULL|26.6|            1.2|           9.9|1.5933700000000002|     80.0|   86.0| 82.0|      80.0|    0.4|          73.22707|\n",
      "|Americas|               Haiti|         HTI|2016|          10839.97| 1800.0|             0.9297| 8.436869999999999|           2.44959| 65.02301999999999|               NULL|25.3|            3.9|          10.9|           2.72063|     64.0|   69.0| 64.0|      64.0|    2.1|           63.5098|\n",
      "+--------+--------------------+------------+----+------------------+-------+-------------------+------------------+------------------+------------------+-------------------+----+---------------+--------------+------------------+---------+-------+-----+----------+-------+------------------+\n",
      "only showing top 20 rows"
     ]
    }
   ],
   "source": [
    "df_diphtheria_le80 = spark.sql(\"\"\"\n",
    "    SELECT *\n",
    "    FROM data_selected\n",
    "    WHERE year = 2016 AND diphtheria <= 80\n",
    "\"\"\")\n",
    "\n",
    "df_diphtheria_le80.show()"
   ]
  },
  {
   "cell_type": "markdown",
   "id": "0976faa9",
   "metadata": {},
   "source": [
    "### Países con \"une_hiv\" igual o mayor al 20% en el año 2016"
   ]
  },
  {
   "cell_type": "code",
   "execution_count": 30,
   "id": "a6b8da5b",
   "metadata": {},
   "outputs": [
    {
     "data": {
      "application/vnd.jupyter.widget-view+json": {
       "model_id": "",
       "version_major": 2,
       "version_minor": 0
      },
      "text/plain": [
       "FloatProgress(value=0.0, bar_style='info', description='Progress:', layout=Layout(height='25px', width='50%'),…"
      ]
     },
     "metadata": {},
     "output_type": "display_data"
    },
    {
     "name": "stdout",
     "output_type": "stream",
     "text": [
      "+------+------------+------------+----+-----------------+-------+------------------+------------------+-------------+-----------------+-----------------+----+---------------+--------------+------------------+---------+-------+-----+----------+-------+------------------+\n",
      "|region|     country|country_code|year|          une_pop|une_gni|            gghe-d|           che_gdp|une_edu_spend|      basic_water|          doctors| bmi|age5-19thinness|age5-19obesity|           alcohol|hepatitis|measles|polio|diphtheria|une_hiv|       life_expect|\n",
      "+------+------------+------------+----+-----------------+-------+------------------+------------------+-------------+-----------------+-----------------+----+---------------+--------------+------------------+---------+-------+-----+----------+-------+------------------+\n",
      "|Africa|    Botswana|         BWA|2016|         2159.927|16650.0|             3.699|5.5605199999999995|         NULL|89.40444000000001|            5.269|24.3|            6.3|           6.3|           5.14197|     95.0|   97.0| 96.0|      95.0|   21.2|          66.05297|\n",
      "|Africa|South Africa|         ZAF|2016|56207.64599999999|12880.0|           4.35684|           8.09583|      5.94285|         92.27031|7.997000000000001|27.3|            4.7|          11.3|7.3032699999999995|     76.0|   85.0| 76.0|      76.0|   20.4|63.599509999999995|\n",
      "|Africa|    Eswatini|         SWZ|2016|         1113.997|10210.0|2.8448700000000002|           6.81778|         NULL|          68.9483|            3.285|26.8|            4.0|           6.0| 7.502110000000001|     90.0|   89.0| 90.0|      90.0|   28.0|          57.69028|\n",
      "|Africa|     Lesotho|         LSO|2016|          2075.03| 3580.0|           5.15339|            7.9485|         NULL|         68.62891|             NULL|24.9|            5.4|           5.0|            2.8891|     87.0|   90.0| 87.0|      87.0|   24.3|          52.93801|\n",
      "+------+------------+------------+----+-----------------+-------+------------------+------------------+-------------+-----------------+-----------------+----+---------------+--------------+------------------+---------+-------+-----+----------+-------+------------------+"
     ]
    }
   ],
   "source": [
    "df_hiv_ge20 = spark.sql(\"\"\"\n",
    "    SELECT *\n",
    "    FROM data_selected\n",
    "    WHERE year = 2016 AND une_hiv >= 20\n",
    "\"\"\")\n",
    "\n",
    "df_hiv_ge20.show()"
   ]
  },
  {
   "cell_type": "markdown",
   "id": "bcaeb8f9",
   "metadata": {},
   "source": [
    "## Guardar resultados en zona refined"
   ]
  },
  {
   "cell_type": "code",
   "execution_count": 31,
   "id": "f7494778",
   "metadata": {},
   "outputs": [
    {
     "data": {
      "application/vnd.jupyter.widget-view+json": {
       "model_id": "",
       "version_major": 2,
       "version_minor": 0
      },
      "text/plain": [
       "FloatProgress(value=0.0, bar_style='info', description='Progress:', layout=Layout(height='25px', width='50%'),…"
      ]
     },
     "metadata": {},
     "output_type": "display_data"
    }
   ],
   "source": [
    "output_path = \"s3://aarangog2proyectointegrador/zona refined/\"\n",
    "\n",
    "# Guardar archivos\n",
    "df_life_expect_avg.write.mode(\"overwrite\").parquet(output_path + \"df_life_expect_avg\")\n",
    "df_adult_mortality_avg.write.mode(\"overwrite\").parquet(output_path + \"df_adult_mortality_avg\")\n",
    "df_infant_mort_avg.write.mode(\"overwrite\").parquet(output_path + \"df_infant_mort_avg\")\n",
    "df_life_exp60_avg.write.mode(\"overwrite\").parquet(output_path + \"df_life_exp60_avg\")\n",
    "df_age1_4mort_avg.write.mode(\"overwrite\").parquet(output_path + \"df_age1_4mort_avg\")\n",
    "df_country_count_filtered.write.mode(\"overwrite\").parquet(output_path + \"df_country_count_filtered\")\n",
    "\n",
    "df_country_count_selected.write.mode(\"overwrite\").parquet(output_path + \"df_country_count_selected\")\n",
    "df_thinness_gt20.write.mode(\"overwrite\").parquet(output_path + \"df_thinness_gt20\")\n",
    "df_obesity_gt20.write.mode(\"overwrite\").parquet(output_path + \"df_obesity_gt20\")\n",
    "df_hepatitis_le80.write.mode(\"overwrite\").parquet(output_path + \"df_hepatitis_le80\")\n",
    "df_measles_le80.write.mode(\"overwrite\").parquet(output_path + \"df_measles_le80\")\n",
    "df_polio_le80.write.mode(\"overwrite\").parquet(output_path + \"df_polio_le80\")\n",
    "df_diphtheria_le80.write.mode(\"overwrite\").parquet(output_path + \"df_diphtheria_le80\")\n",
    "df_hiv_ge20.write.mode(\"overwrite\").parquet(output_path + \"df_hiv_ge20\")"
   ]
  }
 ],
 "metadata": {
  "kernelspec": {
   "display_name": "PySpark",
   "language": "python",
   "name": "pysparkkernel"
  },
  "language_info": {
   "codemirror_mode": {
    "name": "python",
    "version": 3
   },
   "file_extension": ".py",
   "mimetype": "text/x-python",
   "name": "pyspark",
   "pygments_lexer": "python3"
  }
 },
 "nbformat": 4,
 "nbformat_minor": 5
}
