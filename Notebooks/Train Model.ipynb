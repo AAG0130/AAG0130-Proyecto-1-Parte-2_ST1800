{
 "cells": [
  {
   "cell_type": "code",
   "execution_count": 1,
   "id": "b9b6f7bc",
   "metadata": {},
   "outputs": [
    {
     "name": "stdout",
     "output_type": "stream",
     "text": [
      "Starting Spark application\n"
     ]
    },
    {
     "data": {
      "text/html": [
       "<table>\n",
       "<tr><th>ID</th><th>YARN Application ID</th><th>Kind</th><th>State</th><th>Spark UI</th><th>Driver log</th><th>User</th><th>Current session?</th></tr><tr><td>0</td><td>application_1748258165689_0001</td><td>pyspark</td><td>idle</td><td><a target=\"_blank\" href=\"http://ip-172-31-78-21.ec2.internal:20888/proxy/application_1748258165689_0001/\">Link</a></td><td><a target=\"_blank\" href=\"http://ip-172-31-68-43.ec2.internal:8042/node/containerlogs/container_1748258165689_0001_01_000001/livy\">Link</a></td><td>None</td><td>✔</td></tr></table>"
      ],
      "text/plain": [
       "<IPython.core.display.HTML object>"
      ]
     },
     "metadata": {},
     "output_type": "display_data"
    },
    {
     "data": {
      "application/vnd.jupyter.widget-view+json": {
       "model_id": "",
       "version_major": 2,
       "version_minor": 0
      },
      "text/plain": [
       "FloatProgress(value=0.0, bar_style='info', description='Progress:', layout=Layout(height='25px', width='50%'),…"
      ]
     },
     "metadata": {},
     "output_type": "display_data"
    },
    {
     "name": "stdout",
     "output_type": "stream",
     "text": [
      "SparkSession available as 'spark'.\n"
     ]
    },
    {
     "data": {
      "application/vnd.jupyter.widget-view+json": {
       "model_id": "",
       "version_major": 2,
       "version_minor": 0
      },
      "text/plain": [
       "FloatProgress(value=0.0, bar_style='info', description='Progress:', layout=Layout(height='25px', width='50%'),…"
      ]
     },
     "metadata": {},
     "output_type": "display_data"
    },
    {
     "name": "stdout",
     "output_type": "stream",
     "text": [
      "<pyspark.sql.session.SparkSession object at 0x7f6ad7169220>"
     ]
    }
   ],
   "source": [
    "spark"
   ]
  },
  {
   "cell_type": "code",
   "execution_count": 2,
   "id": "4708e275",
   "metadata": {},
   "outputs": [
    {
     "data": {
      "application/vnd.jupyter.widget-view+json": {
       "model_id": "",
       "version_major": 2,
       "version_minor": 0
      },
      "text/plain": [
       "FloatProgress(value=0.0, bar_style='info', description='Progress:', layout=Layout(height='25px', width='50%'),…"
      ]
     },
     "metadata": {},
     "output_type": "display_data"
    },
    {
     "name": "stdout",
     "output_type": "stream",
     "text": [
      "<SparkContext master=yarn appName=livy-session-0>"
     ]
    }
   ],
   "source": [
    "sc"
   ]
  },
  {
   "cell_type": "code",
   "execution_count": 12,
   "id": "7627ba9a",
   "metadata": {},
   "outputs": [
    {
     "data": {
      "application/vnd.jupyter.widget-view+json": {
       "model_id": "",
       "version_major": 2,
       "version_minor": 0
      },
      "text/plain": [
       "FloatProgress(value=0.0, bar_style='info', description='Progress:', layout=Layout(height='25px', width='50%'),…"
      ]
     },
     "metadata": {},
     "output_type": "display_data"
    }
   ],
   "source": [
    "from pyspark.sql import SparkSession\n",
    "from pyspark.sql.functions import col\n",
    "from pyspark.ml.feature import VectorAssembler\n",
    "from pyspark.ml.regression import RandomForestRegressor\n",
    "from pyspark.ml.evaluation import RegressionEvaluator\n",
    "from pyspark.sql.functions import monotonically_increasing_id\n",
    "import time\n",
    "import random"
   ]
  },
  {
   "cell_type": "code",
   "execution_count": 4,
   "id": "27021262",
   "metadata": {},
   "outputs": [
    {
     "data": {
      "application/vnd.jupyter.widget-view+json": {
       "model_id": "",
       "version_major": 2,
       "version_minor": 0
      },
      "text/plain": [
       "FloatProgress(value=0.0, bar_style='info', description='Progress:', layout=Layout(height='25px', width='50%'),…"
      ]
     },
     "metadata": {},
     "output_type": "display_data"
    }
   ],
   "source": [
    "# Leer las tablas de Glue Catalog\n",
    "df_standard = spark.table(\"proyecto1db.data_standard\")\n",
    "df_prepared_selected = spark.table(\"proyecto1db.data_prepared_selected\")"
   ]
  },
  {
   "cell_type": "code",
   "execution_count": 5,
   "id": "bcd58511",
   "metadata": {},
   "outputs": [
    {
     "data": {
      "application/vnd.jupyter.widget-view+json": {
       "model_id": "",
       "version_major": 2,
       "version_minor": 0
      },
      "text/plain": [
       "FloatProgress(value=0.0, bar_style='info', description='Progress:', layout=Layout(height='25px', width='50%'),…"
      ]
     },
     "metadata": {},
     "output_type": "display_data"
    },
    {
     "name": "stdout",
     "output_type": "stream",
     "text": [
      "(3043, 21)"
     ]
    }
   ],
   "source": [
    "print((df_standard.count(),len(df_standard.columns)))"
   ]
  },
  {
   "cell_type": "code",
   "execution_count": 6,
   "id": "707cb1f4",
   "metadata": {},
   "outputs": [
    {
     "data": {
      "application/vnd.jupyter.widget-view+json": {
       "model_id": "",
       "version_major": 2,
       "version_minor": 0
      },
      "text/plain": [
       "FloatProgress(value=0.0, bar_style='info', description='Progress:', layout=Layout(height='25px', width='50%'),…"
      ]
     },
     "metadata": {},
     "output_type": "display_data"
    },
    {
     "name": "stdout",
     "output_type": "stream",
     "text": [
      "(3043, 19)"
     ]
    }
   ],
   "source": [
    "print((df_prepared_selected.count(),len(df_prepared_selected.columns)))"
   ]
  },
  {
   "cell_type": "code",
   "execution_count": 7,
   "id": "76e410c5",
   "metadata": {},
   "outputs": [
    {
     "data": {
      "application/vnd.jupyter.widget-view+json": {
       "model_id": "",
       "version_major": 2,
       "version_minor": 0
      },
      "text/plain": [
       "FloatProgress(value=0.0, bar_style='info', description='Progress:', layout=Layout(height='25px', width='50%'),…"
      ]
     },
     "metadata": {},
     "output_type": "display_data"
    }
   ],
   "source": [
    "# Obtener lista única de países\n",
    "countries = [row['country'] for row in df_standard.select(\"country\").distinct().collect()]"
   ]
  },
  {
   "cell_type": "code",
   "execution_count": 14,
   "id": "7e5ac4cd",
   "metadata": {},
   "outputs": [
    {
     "data": {
      "application/vnd.jupyter.widget-view+json": {
       "model_id": "",
       "version_major": 2,
       "version_minor": 0
      },
      "text/plain": [
       "FloatProgress(value=0.0, bar_style='info', description='Progress:', layout=Layout(height='25px', width='50%'),…"
      ]
     },
     "metadata": {},
     "output_type": "display_data"
    },
    {
     "name": "stdout",
     "output_type": "stream",
     "text": [
      "Paises de entrenamiento: 143\n",
      "Paises de prueba: 36"
     ]
    }
   ],
   "source": [
    "# Particionar países aleatoriamente en entrenamiento y prueba (80/20)\n",
    "semilla = 42\n",
    "random.seed(semilla)\n",
    "\n",
    "train_size = int(len(countries) * 0.8)\n",
    "train_countries = random.sample(countries, train_size)\n",
    "test_countries = list(set(countries) - set(train_countries))\n",
    "\n",
    "# Verificación\n",
    "print(f\"Paises de entrenamiento: {len(train_countries)}\")\n",
    "print(f\"Paises de prueba: {len(test_countries)}\")"
   ]
  },
  {
   "cell_type": "code",
   "execution_count": 9,
   "id": "9d230a50",
   "metadata": {},
   "outputs": [
    {
     "data": {
      "application/vnd.jupyter.widget-view+json": {
       "model_id": "",
       "version_major": 2,
       "version_minor": 0
      },
      "text/plain": [
       "FloatProgress(value=0.0, bar_style='info', description='Progress:', layout=Layout(height='25px', width='50%'),…"
      ]
     },
     "metadata": {},
     "output_type": "display_data"
    },
    {
     "name": "stdout",
     "output_type": "stream",
     "text": [
      "['Liberia', 'Mauritius', 'Peru', 'Greece', 'Costa Rica', 'Seychelles', 'Tonga', 'Poland', 'Hungary', 'Lebanon', 'Gabon', 'Slovakia', 'Croatia', 'China', 'Slovenia', 'United Arab Emirates', \"Lao People's Democratic Republic\", 'Saudi Arabia', 'Mauritania', 'El Salvador', 'Eritrea', 'Lithuania', 'Dominican Republic', 'Sri Lanka', 'United Kingdom of Great Britain and Northern Ireland', 'Kuwait', 'Bolivia (Plurinational State of)', 'Republic of North Macedonia', 'Turkey', 'Togo', 'Guinea', 'Latvia', 'Gambia', 'Rwanda', 'South Africa', 'Jamaica', 'Bosnia and Herzegovina', 'Namibia', 'Burkina Faso', 'Viet Nam', 'Mozambique', 'Saint Lucia', 'Singapore', 'Niger', 'Burundi', \"Côte d'Ivoire\", 'Haiti', 'Zambia', 'United Republic of Tanzania', 'Belize', 'Nigeria', 'Mexico', 'Nicaragua', 'Azerbaijan', 'Mali', 'Colombia', 'Malawi', 'Norway', 'Belgium', 'Zimbabwe', 'Ecuador', 'Ireland', 'Chile', 'Republic of Moldova', 'Brazil', 'Cyprus', 'Cambodia', 'India', 'Samoa', 'Sao Tome and Principe', 'Sierra Leone', 'Kiribati', 'Uganda', 'Djibouti', 'Canada', 'Equatorial Guinea', 'Montenegro', 'Suriname', 'Russian Federation', 'Bahamas', 'Eswatini', 'Jordan', 'Kenya', 'Guinea-Bissau', 'Turkmenistan', 'Grenada', 'Tajikistan', 'Afghanistan', 'Vanuatu', 'Kazakhstan', 'France', 'Egypt', 'Algeria', 'Switzerland', 'Czechia', 'Albania', 'Malta', 'Spain', 'Serbia', 'Ethiopia', 'Portugal', 'Qatar', 'Micronesia (Federated States of)', 'Ukraine', 'Bahrain', 'Panama', 'Cuba', 'Armenia', 'Republic of Korea', 'Tunisia', 'Japan', 'Romania', 'Trinidad and Tobago', 'Uzbekistan', 'Madagascar', 'Senegal', 'Oman', 'Cabo Verde', 'Yemen', 'Saint Vincent and the Grenadines', 'Libya', 'Angola', 'Malaysia', 'Myanmar', 'Chad', 'Bangladesh', 'Barbados', 'Lesotho', 'Brunei Darussalam', 'Kyrgyzstan', 'Germany', 'Guatemala', 'Morocco', 'Pakistan', 'Syrian Arab Republic', 'Estonia', 'Austria', 'Israel', 'Timor-Leste', 'Guyana', 'Indonesia', 'United States of America', 'Maldives']"
     ]
    }
   ],
   "source": [
    "train_countries"
   ]
  },
  {
   "cell_type": "code",
   "execution_count": 10,
   "id": "d159fa94",
   "metadata": {},
   "outputs": [
    {
     "data": {
      "application/vnd.jupyter.widget-view+json": {
       "model_id": "",
       "version_major": 2,
       "version_minor": 0
      },
      "text/plain": [
       "FloatProgress(value=0.0, bar_style='info', description='Progress:', layout=Layout(height='25px', width='50%'),…"
      ]
     },
     "metadata": {},
     "output_type": "display_data"
    },
    {
     "name": "stdout",
     "output_type": "stream",
     "text": [
      "['Argentina', 'Venezuela (Bolivarian Republic of)', 'Iraq', 'Antigua and Barbuda', 'Central African Republic', 'Comoros', 'Belarus', 'Iran (Islamic Republic of)', 'Honduras', 'Botswana', 'Ghana', 'Uruguay', 'Papua New Guinea', 'Philippines', 'Thailand', 'Luxembourg', 'Denmark', 'Democratic Republic of the Congo', 'Paraguay', 'Italy', 'Bhutan', 'Bulgaria', 'Georgia', 'Nepal', 'Finland', 'New Zealand', 'Solomon Islands', 'Netherlands', 'Mongolia', 'Fiji', 'Iceland', 'Cameroon', 'Australia', 'Benin', 'Sweden', 'Congo']"
     ]
    }
   ],
   "source": [
    "test_countries"
   ]
  },
  {
   "cell_type": "code",
   "execution_count": 34,
   "id": "f209af45",
   "metadata": {},
   "outputs": [
    {
     "data": {
      "application/vnd.jupyter.widget-view+json": {
       "model_id": "",
       "version_major": 2,
       "version_minor": 0
      },
      "text/plain": [
       "FloatProgress(value=0.0, bar_style='info', description='Progress:', layout=Layout(height='25px', width='50%'),…"
      ]
     },
     "metadata": {},
     "output_type": "display_data"
    }
   ],
   "source": [
    "df_standard = df_standard.withColumn(\"id\", monotonically_increasing_id())\n",
    "df_prepared_selected = df_prepared_selected.withColumn(\"id\", monotonically_increasing_id())\n",
    "\n",
    "# Ahora puedes hacer join por `id`\n",
    "df_prepared_selected = df_prepared_selected.join(\n",
    "    df_standard.select(\"id\", \"country\", \"region\"),\n",
    "    on=\"id\",\n",
    "    how=\"left\"\n",
    ")"
   ]
  },
  {
   "cell_type": "code",
   "execution_count": 35,
   "id": "9fc6378d",
   "metadata": {},
   "outputs": [
    {
     "data": {
      "application/vnd.jupyter.widget-view+json": {
       "model_id": "",
       "version_major": 2,
       "version_minor": 0
      },
      "text/plain": [
       "FloatProgress(value=0.0, bar_style='info', description='Progress:', layout=Layout(height='25px', width='50%'),…"
      ]
     },
     "metadata": {},
     "output_type": "display_data"
    },
    {
     "name": "stdout",
     "output_type": "stream",
     "text": [
      "+---+-------------------+--------------------+-------------------+-------------------+------------------+-------------------+-------------------+-------------------+-------------------+------------------+-------------------+-------------------+-------------------+-------------------+-------------------+-------------------+--------------------+-----------+------+-------+------+\n",
      "| id|               year|             une_pop|            une_gni|             gghe-d|           che_gdp|      une_edu_spend|        basic_water|            doctors|                bmi|   age5-19thinness|     age5-19obesity|            alcohol|          hepatitis|            measles|              polio|         diphtheria|             une_hiv|life_expect|africa|country|region|\n",
      "+---+-------------------+--------------------+-------------------+-------------------+------------------+-------------------+-------------------+-------------------+-------------------+------------------+-------------------+-------------------+-------------------+-------------------+-------------------+-------------------+--------------------+-----------+------+-------+------+\n",
      "|  0| -1.632724820195343|-0.11919517443346139|-0.7679028598922031| -1.268234346462089|1.3666419932873197|-0.5787451577912811| -2.989086018063791|-0.9452868388909977|-1.5374926121704549|3.2719750485572967|-1.1880939875307583|-1.2194172073875629|-1.1515812283029268|-3.9504854864871355|  -4.32345025735203| -4.219408134271501|-0.39085345915311936|    47.3373|   1.0| Angola|Africa|\n",
      "|  1| -1.428634217670931|-0.11322937378887421|-0.7679028598922031| -1.268234346462089|1.3666419932873197|-0.5787451577912811| -2.987734523512241|-0.9766694454727423|  -1.49193361575556|3.2292021117407095|-1.1660834064618408|-1.2194172073875629|-1.1515812283029268| -3.278931671321768| -3.567203061524424|-3.6146938501377557|-0.39085345915311936|   48.19789|   1.0| Angola|Africa|\n",
      "|  2|-1.2245436151465188|-0.10606074695182477|-0.7679028598922031|-1.4615240869107367|  1.32600960246707|-0.5787451577912811|-2.8756340192067977|-0.9452868388909977|-1.4463746193406668|3.1864291749241227|-1.1440728253929235|-1.2194172073875629|-1.1515812283029268|-3.4132424343548413| -3.498453316449187| -3.413122422093174|-0.39085345915311936|   49.42569|   1.0| Angola|Africa|\n",
      "|  3|-1.0204530126221067| -0.0982694597124464|-0.7679028598922031| -1.189879184949675|1.1251807132174703|-0.5787451577912811|-2.7634903480801096|-0.9452868388909977| -1.400815622925772| 3.143656238107536| -1.122062244324006|-1.2194172073875629|-1.1515812283029268|-3.1446209082886947|-3.1547045910730023| -3.077170042018871|-0.39085345915311936|   50.50266|   1.0| Angola|Africa|\n",
      "|  4|-0.8163624100976947|-0.09072550828412998|-0.7679028598922031| -1.241655533372085|1.4720247995021887|-0.5787451577912811| -2.650448700486797|-0.9452868388909977|-1.3552566265108772|3.1008833012909496|-1.1000516632550887|-1.2194172073875629|-1.1515812283029268| -2.540222474639864|  -2.53595688539587| -2.472455757885126|-0.39085345915311936|   51.52863|   1.0| Angola|Africa|\n",
      "+---+-------------------+--------------------+-------------------+-------------------+------------------+-------------------+-------------------+-------------------+-------------------+------------------+-------------------+-------------------+-------------------+-------------------+-------------------+-------------------+--------------------+-----------+------+-------+------+\n",
      "only showing top 5 rows"
     ]
    }
   ],
   "source": [
    "df_prepared_selected.show(5)"
   ]
  },
  {
   "cell_type": "code",
   "execution_count": 36,
   "id": "2c0cda70",
   "metadata": {},
   "outputs": [
    {
     "data": {
      "application/vnd.jupyter.widget-view+json": {
       "model_id": "",
       "version_major": 2,
       "version_minor": 0
      },
      "text/plain": [
       "FloatProgress(value=0.0, bar_style='info', description='Progress:', layout=Layout(height='25px', width='50%'),…"
      ]
     },
     "metadata": {},
     "output_type": "display_data"
    },
    {
     "name": "stdout",
     "output_type": "stream",
     "text": [
      "(3043, 22)"
     ]
    }
   ],
   "source": [
    "print((df_prepared_selected.count(),len(df_prepared_selected.columns)))"
   ]
  },
  {
   "cell_type": "code",
   "execution_count": 37,
   "id": "ec8550d6",
   "metadata": {},
   "outputs": [
    {
     "data": {
      "application/vnd.jupyter.widget-view+json": {
       "model_id": "",
       "version_major": 2,
       "version_minor": 0
      },
      "text/plain": [
       "FloatProgress(value=0.0, bar_style='info', description='Progress:', layout=Layout(height='25px', width='50%'),…"
      ]
     },
     "metadata": {},
     "output_type": "display_data"
    }
   ],
   "source": [
    "# Crear conjuntos de entrenamiento y prueba\n",
    "train_df = df_prepared_selected.filter(col(\"country\").isin([str(c) for c in train_countries]))\n",
    "test_df = df_prepared_selected.filter(col(\"country\").isin([str(c) for c in test_countries]))"
   ]
  },
  {
   "cell_type": "code",
   "execution_count": 38,
   "id": "6e0b8754",
   "metadata": {},
   "outputs": [
    {
     "data": {
      "application/vnd.jupyter.widget-view+json": {
       "model_id": "",
       "version_major": 2,
       "version_minor": 0
      },
      "text/plain": [
       "FloatProgress(value=0.0, bar_style='info', description='Progress:', layout=Layout(height='25px', width='50%'),…"
      ]
     },
     "metadata": {},
     "output_type": "display_data"
    },
    {
     "name": "stdout",
     "output_type": "stream",
     "text": [
      "+---+-------------------+--------------------+-------------------+-------------------+------------------+-------------------+-------------------+-------------------+-------------------+------------------+-------------------+-------------------+-------------------+-------------------+-------------------+-------------------+--------------------+-----------+------+-------+------+\n",
      "| id|               year|             une_pop|            une_gni|             gghe-d|           che_gdp|      une_edu_spend|        basic_water|            doctors|                bmi|   age5-19thinness|     age5-19obesity|            alcohol|          hepatitis|            measles|              polio|         diphtheria|             une_hiv|life_expect|africa|country|region|\n",
      "+---+-------------------+--------------------+-------------------+-------------------+------------------+-------------------+-------------------+-------------------+-------------------+------------------+-------------------+-------------------+-------------------+-------------------+-------------------+-------------------+--------------------+-----------+------+-------+------+\n",
      "|  0| -1.632724820195343|-0.11919517443346139|-0.7679028598922031| -1.268234346462089|1.3666419932873197|-0.5787451577912811| -2.989086018063791|-0.9452868388909977|-1.5374926121704549|3.2719750485572967|-1.1880939875307583|-1.2194172073875629|-1.1515812283029268|-3.9504854864871355|  -4.32345025735203| -4.219408134271501|-0.39085345915311936|    47.3373|   1.0| Angola|Africa|\n",
      "|  1| -1.428634217670931|-0.11322937378887421|-0.7679028598922031| -1.268234346462089|1.3666419932873197|-0.5787451577912811| -2.987734523512241|-0.9766694454727423|  -1.49193361575556|3.2292021117407095|-1.1660834064618408|-1.2194172073875629|-1.1515812283029268| -3.278931671321768| -3.567203061524424|-3.6146938501377557|-0.39085345915311936|   48.19789|   1.0| Angola|Africa|\n",
      "|  2|-1.2245436151465188|-0.10606074695182477|-0.7679028598922031|-1.4615240869107367|  1.32600960246707|-0.5787451577912811|-2.8756340192067977|-0.9452868388909977|-1.4463746193406668|3.1864291749241227|-1.1440728253929235|-1.2194172073875629|-1.1515812283029268|-3.4132424343548413| -3.498453316449187| -3.413122422093174|-0.39085345915311936|   49.42569|   1.0| Angola|Africa|\n",
      "|  3|-1.0204530126221067| -0.0982694597124464|-0.7679028598922031| -1.189879184949675|1.1251807132174703|-0.5787451577912811|-2.7634903480801096|-0.9452868388909977| -1.400815622925772| 3.143656238107536| -1.122062244324006|-1.2194172073875629|-1.1515812283029268|-3.1446209082886947|-3.1547045910730023| -3.077170042018871|-0.39085345915311936|   50.50266|   1.0| Angola|Africa|\n",
      "|  4|-0.8163624100976947|-0.09072550828412998|-0.7679028598922031| -1.241655533372085|1.4720247995021887|-0.5787451577912811| -2.650448700486797|-0.9452868388909977|-1.3552566265108772|3.1008833012909496|-1.1000516632550887|-1.2194172073875629|-1.1515812283029268| -2.540222474639864|  -2.53595688539587| -2.472455757885126|-0.39085345915311936|   51.52863|   1.0| Angola|Africa|\n",
      "+---+-------------------+--------------------+-------------------+-------------------+------------------+-------------------+-------------------+-------------------+-------------------+------------------+-------------------+-------------------+-------------------+-------------------+-------------------+-------------------+--------------------+-----------+------+-------+------+\n",
      "only showing top 5 rows"
     ]
    }
   ],
   "source": [
    "train_df.show(5)"
   ]
  },
  {
   "cell_type": "code",
   "execution_count": 39,
   "id": "cea0e358",
   "metadata": {},
   "outputs": [
    {
     "data": {
      "application/vnd.jupyter.widget-view+json": {
       "model_id": "",
       "version_major": 2,
       "version_minor": 0
      },
      "text/plain": [
       "FloatProgress(value=0.0, bar_style='info', description='Progress:', layout=Layout(height='25px', width='50%'),…"
      ]
     },
     "metadata": {},
     "output_type": "display_data"
    },
    {
     "name": "stdout",
     "output_type": "stream",
     "text": [
      "(2431, 22)"
     ]
    }
   ],
   "source": [
    "print((train_df.count(),len(train_df.columns)))"
   ]
  },
  {
   "cell_type": "code",
   "execution_count": 40,
   "id": "d84f5381",
   "metadata": {},
   "outputs": [
    {
     "data": {
      "application/vnd.jupyter.widget-view+json": {
       "model_id": "",
       "version_major": 2,
       "version_minor": 0
      },
      "text/plain": [
       "FloatProgress(value=0.0, bar_style='info', description='Progress:', layout=Layout(height='25px', width='50%'),…"
      ]
     },
     "metadata": {},
     "output_type": "display_data"
    },
    {
     "name": "stdout",
     "output_type": "stream",
     "text": [
      "(612, 22)"
     ]
    }
   ],
   "source": [
    "print((test_df.count(),len(test_df.columns)))"
   ]
  },
  {
   "cell_type": "code",
   "execution_count": 45,
   "id": "e94f6b56",
   "metadata": {},
   "outputs": [
    {
     "data": {
      "application/vnd.jupyter.widget-view+json": {
       "model_id": "",
       "version_major": 2,
       "version_minor": 0
      },
      "text/plain": [
       "FloatProgress(value=0.0, bar_style='info', description='Progress:', layout=Layout(height='25px', width='50%'),…"
      ]
     },
     "metadata": {},
     "output_type": "display_data"
    }
   ],
   "source": [
    "train_df = train_df.drop('id')\n",
    "test_df = test_df.drop('id')\n",
    "df_prepared_selected = df_prepared_selected.drop('id')"
   ]
  },
  {
   "cell_type": "code",
   "execution_count": 46,
   "id": "70584947",
   "metadata": {},
   "outputs": [
    {
     "data": {
      "application/vnd.jupyter.widget-view+json": {
       "model_id": "",
       "version_major": 2,
       "version_minor": 0
      },
      "text/plain": [
       "FloatProgress(value=0.0, bar_style='info', description='Progress:', layout=Layout(height='25px', width='50%'),…"
      ]
     },
     "metadata": {},
     "output_type": "display_data"
    }
   ],
   "source": [
    "# Definir columnas predictoras (excluyendo la variable objetivo y columnas identificadoras)\n",
    "target_col = \"life_expect\"\n",
    "id_cols = [\"country\", \"region\", \"year\"]\n",
    "feature_cols = [c for c in df_prepared_selected.columns if c not in id_cols + [target_col]]"
   ]
  },
  {
   "cell_type": "code",
   "execution_count": 47,
   "id": "bcb90335",
   "metadata": {},
   "outputs": [
    {
     "data": {
      "application/vnd.jupyter.widget-view+json": {
       "model_id": "",
       "version_major": 2,
       "version_minor": 0
      },
      "text/plain": [
       "FloatProgress(value=0.0, bar_style='info', description='Progress:', layout=Layout(height='25px', width='50%'),…"
      ]
     },
     "metadata": {},
     "output_type": "display_data"
    }
   ],
   "source": [
    "# Ensamblar características en un solo vector\n",
    "assembler = VectorAssembler(inputCols=feature_cols, outputCol=\"features\")\n",
    "train_df = assembler.transform(train_df).select(\"features\", target_col, \"country\", \"region\")\n",
    "test_df = assembler.transform(test_df).select(\"features\", target_col, \"country\", \"region\")"
   ]
  },
  {
   "cell_type": "code",
   "execution_count": 48,
   "id": "88720e06",
   "metadata": {},
   "outputs": [
    {
     "data": {
      "application/vnd.jupyter.widget-view+json": {
       "model_id": "",
       "version_major": 2,
       "version_minor": 0
      },
      "text/plain": [
       "FloatProgress(value=0.0, bar_style='info', description='Progress:', layout=Layout(height='25px', width='50%'),…"
      ]
     },
     "metadata": {},
     "output_type": "display_data"
    },
    {
     "name": "stdout",
     "output_type": "stream",
     "text": [
      "+--------------------+-----------+-------+------+\n",
      "|            features|life_expect|country|region|\n",
      "+--------------------+-----------+-------+------+\n",
      "|[-0.1191951744334...|    47.3373| Angola|Africa|\n",
      "|[-0.1132293737888...|   48.19789| Angola|Africa|\n",
      "|[-0.1060607469518...|   49.42569| Angola|Africa|\n",
      "|[-0.0982694597124...|   50.50266| Angola|Africa|\n",
      "|[-0.0907255082841...|   51.52863| Angola|Africa|\n",
      "+--------------------+-----------+-------+------+\n",
      "only showing top 5 rows"
     ]
    }
   ],
   "source": [
    "train_df.show(5)"
   ]
  },
  {
   "cell_type": "code",
   "execution_count": 50,
   "id": "39572bce",
   "metadata": {},
   "outputs": [
    {
     "data": {
      "application/vnd.jupyter.widget-view+json": {
       "model_id": "",
       "version_major": 2,
       "version_minor": 0
      },
      "text/plain": [
       "FloatProgress(value=0.0, bar_style='info', description='Progress:', layout=Layout(height='25px', width='50%'),…"
      ]
     },
     "metadata": {},
     "output_type": "display_data"
    },
    {
     "name": "stdout",
     "output_type": "stream",
     "text": [
      "Tiempo de entrenamiento del modelo: 34.58 segundos"
     ]
    }
   ],
   "source": [
    "# Iniciar el temporizador\n",
    "start_time = time.time()\n",
    "\n",
    "# Entrenar modelo de RandomForestRegressor\n",
    "rf = RandomForestRegressor(\n",
    "    featuresCol=\"features\", \n",
    "    labelCol=target_col,\n",
    "    numTrees=144,\n",
    "    maxDepth=20,\n",
    "    minInstancesPerNode=5,\n",
    "    minInfoGain=0.0,\n",
    "    maxBins=32,\n",
    "    seed=semilla,\n",
    "    featureSubsetStrategy=\"log2\",\n",
    "    bootstrap=False\n",
    ")\n",
    "\n",
    "model = rf.fit(train_df)\n",
    "\n",
    "# Finalizar el temporizador\n",
    "end_time = time.time()\n",
    "\n",
    "# Imprimir duración del entrenamiento\n",
    "duration = end_time - start_time\n",
    "print(f\"Tiempo de entrenamiento del modelo: {duration:.2f} segundos\")"
   ]
  },
  {
   "cell_type": "code",
   "execution_count": 51,
   "id": "de098837",
   "metadata": {},
   "outputs": [
    {
     "data": {
      "application/vnd.jupyter.widget-view+json": {
       "model_id": "",
       "version_major": 2,
       "version_minor": 0
      },
      "text/plain": [
       "FloatProgress(value=0.0, bar_style='info', description='Progress:', layout=Layout(height='25px', width='50%'),…"
      ]
     },
     "metadata": {},
     "output_type": "display_data"
    },
    {
     "name": "stdout",
     "output_type": "stream",
     "text": [
      "MSE: 32.754939898875115\n",
      "MAE: 4.199028801678624"
     ]
    }
   ],
   "source": [
    "# Hacer predicciones\n",
    "predictions = model.transform(test_df)\n",
    "\n",
    "# Evaluación del modelo\n",
    "evaluator = RegressionEvaluator(labelCol=target_col, predictionCol=\"prediction\", metricName=\"mse\")\n",
    "mse = evaluator.evaluate(predictions)\n",
    "mae = evaluator.setMetricName(\"mae\").evaluate(predictions)\n",
    "\n",
    "print(\"MSE:\", mse)\n",
    "print(\"MAE:\", mae)"
   ]
  },
  {
   "cell_type": "code",
   "execution_count": 52,
   "id": "fe9d424b",
   "metadata": {},
   "outputs": [
    {
     "data": {
      "application/vnd.jupyter.widget-view+json": {
       "model_id": "",
       "version_major": 2,
       "version_minor": 0
      },
      "text/plain": [
       "FloatProgress(value=0.0, bar_style='info', description='Progress:', layout=Layout(height='25px', width='50%'),…"
      ]
     },
     "metadata": {},
     "output_type": "display_data"
    },
    {
     "name": "stdout",
     "output_type": "stream",
     "text": [
      "+------------+------+------------------+------------------+\n",
      "|     country|region|        prediction|       life_expect|\n",
      "+------------+------+------------------+------------------+\n",
      "|South Africa|Africa| 60.56887844146823|          58.98315|\n",
      "|South Africa|Africa| 61.07531113996359|          57.90976|\n",
      "|South Africa|Africa| 60.73301004907957|56.844190000000005|\n",
      "|South Africa|Africa|61.403959023644184|          55.82792|\n",
      "|South Africa|Africa| 61.34666747337964|54.923559999999995|\n",
      "+------------+------+------------------+------------------+\n",
      "only showing top 5 rows"
     ]
    }
   ],
   "source": [
    "predictions.select(\"country\", \"region\", \"prediction\", target_col).show(5)"
   ]
  },
  {
   "cell_type": "code",
   "execution_count": 53,
   "id": "b85866ec",
   "metadata": {},
   "outputs": [
    {
     "data": {
      "application/vnd.jupyter.widget-view+json": {
       "model_id": "",
       "version_major": 2,
       "version_minor": 0
      },
      "text/plain": [
       "FloatProgress(value=0.0, bar_style='info', description='Progress:', layout=Layout(height='25px', width='50%'),…"
      ]
     },
     "metadata": {},
     "output_type": "display_data"
    }
   ],
   "source": [
    "# Guardar predicciones con columnas relevantes\n",
    "predictions.select(\"country\", \"region\", \"prediction\", target_col) \\\n",
    "    .write.mode(\"overwrite\") \\\n",
    "    .parquet(\"s3://aarangog2proyectointegrador/zona refined/predicciones_rf\")"
   ]
  },
  {
   "cell_type": "code",
   "execution_count": 54,
   "id": "37077a23",
   "metadata": {},
   "outputs": [
    {
     "data": {
      "application/vnd.jupyter.widget-view+json": {
       "model_id": "",
       "version_major": 2,
       "version_minor": 0
      },
      "text/plain": [
       "FloatProgress(value=0.0, bar_style='info', description='Progress:', layout=Layout(height='25px', width='50%'),…"
      ]
     },
     "metadata": {},
     "output_type": "display_data"
    }
   ],
   "source": [
    "model.write().overwrite().save(\"s3://aarangog2proyectointegrador/zona refined/modelo_rf\")"
   ]
  }
 ],
 "metadata": {
  "kernelspec": {
   "display_name": "PySpark",
   "language": "python",
   "name": "pysparkkernel"
  },
  "language_info": {
   "codemirror_mode": {
    "name": "python",
    "version": 3
   },
   "file_extension": ".py",
   "mimetype": "text/x-python",
   "name": "pyspark",
   "pygments_lexer": "python3"
  }
 },
 "nbformat": 4,
 "nbformat_minor": 5
}
